{
 "cells": [
  {
   "cell_type": "code",
   "execution_count": 27,
   "metadata": {},
   "outputs": [],
   "source": [
    "#Dataset link\n",
    "#https://drive.google.com/file/d/1cCkwiVv4mgfl20ntgY3n4yApcWqqZQe6/view"
   ]
  },
  {
   "cell_type": "markdown",
   "metadata": {
    "id": "O4c5qHp5woTb"
   },
   "source": [
    "Import Libraries"
   ]
  },
  {
   "cell_type": "code",
   "execution_count": 28,
   "metadata": {},
   "outputs": [],
   "source": [
    "# pip install scikit-learn"
   ]
  },
  {
   "cell_type": "code",
   "execution_count": null,
   "metadata": {},
   "outputs": [],
   "source": [
    "# pip install difflib"
   ]
  },
  {
   "cell_type": "code",
   "execution_count": 29,
   "metadata": {
    "id": "izBg4HuYrjas"
   },
   "outputs": [],
   "source": [
    "import numpy as np\n",
    "import pandas as pd\n",
    "import seaborn as sns\n",
    "import matplotlib.pyplot as plt\n",
    "import os\n",
    "import difflib\n",
    "from sklearn.feature_extraction.text import TfidfVectorizer\n",
    "from sklearn.metrics.pairwise import cosine_similarity"
   ]
  },
  {
   "cell_type": "markdown",
   "metadata": {
    "id": "iEYXpBSiw08z"
   },
   "source": [
    "Importing Dataset"
   ]
  },
  {
   "cell_type": "code",
   "execution_count": 30,
   "metadata": {
    "colab": {
     "base_uri": "https://localhost:8080/",
     "height": 802
    },
    "id": "2TBZ7t7cr8Ky",
    "outputId": "0a0982c5-2fdb-469f-8263-869e7c6742d6"
   },
   "outputs": [
    {
     "data": {
      "text/html": [
       "<div>\n",
       "<style scoped>\n",
       "    .dataframe tbody tr th:only-of-type {\n",
       "        vertical-align: middle;\n",
       "    }\n",
       "\n",
       "    .dataframe tbody tr th {\n",
       "        vertical-align: top;\n",
       "    }\n",
       "\n",
       "    .dataframe thead th {\n",
       "        text-align: right;\n",
       "    }\n",
       "</style>\n",
       "<table border=\"1\" class=\"dataframe\">\n",
       "  <thead>\n",
       "    <tr style=\"text-align: right;\">\n",
       "      <th></th>\n",
       "      <th>id</th>\n",
       "      <th>title</th>\n",
       "      <th>genres</th>\n",
       "      <th>original_language</th>\n",
       "      <th>overview</th>\n",
       "      <th>popularity</th>\n",
       "      <th>production_companies</th>\n",
       "      <th>release_date</th>\n",
       "      <th>budget</th>\n",
       "      <th>revenue</th>\n",
       "      <th>runtime</th>\n",
       "      <th>status</th>\n",
       "      <th>tagline</th>\n",
       "      <th>vote_average</th>\n",
       "      <th>vote_count</th>\n",
       "      <th>credits</th>\n",
       "      <th>keywords</th>\n",
       "      <th>poster_path</th>\n",
       "      <th>backdrop_path</th>\n",
       "      <th>recommendations</th>\n",
       "    </tr>\n",
       "  </thead>\n",
       "  <tbody>\n",
       "    <tr>\n",
       "      <th>0</th>\n",
       "      <td>631842</td>\n",
       "      <td>Knock at the Cabin</td>\n",
       "      <td>Horror-Mystery-Thriller</td>\n",
       "      <td>en</td>\n",
       "      <td>While vacationing at a remote cabin a young gi...</td>\n",
       "      <td>3422.537</td>\n",
       "      <td>Blinding Edge Pictures-Universal Pictures-Film...</td>\n",
       "      <td>2023-02-01</td>\n",
       "      <td>20000000.0</td>\n",
       "      <td>52000000.0</td>\n",
       "      <td>100.0</td>\n",
       "      <td>Released</td>\n",
       "      <td>Save your family or save humanity. Make the ch...</td>\n",
       "      <td>6.457</td>\n",
       "      <td>888.0</td>\n",
       "      <td>Dave Bautista-Jonathan Groff-Ben Aldridge-Kris...</td>\n",
       "      <td>based on novel or book-sacrifice-cabin-faith-e...</td>\n",
       "      <td>/dm06L9pxDOL9jNSK4Cb6y139rrG.jpg</td>\n",
       "      <td>/zWDMQX0sPaW2u0N2pJaYA8bVVaJ.jpg</td>\n",
       "      <td>1058949-646389-772515-505642-143970-667216-104...</td>\n",
       "    </tr>\n",
       "    <tr>\n",
       "      <th>1</th>\n",
       "      <td>646389</td>\n",
       "      <td>Plane</td>\n",
       "      <td>Action-Adventure-Thriller</td>\n",
       "      <td>en</td>\n",
       "      <td>After a heroic job of successfully landing his...</td>\n",
       "      <td>2618.646</td>\n",
       "      <td>MadRiver Pictures-Di Bonaventura Pictures-G-BA...</td>\n",
       "      <td>2023-01-12</td>\n",
       "      <td>25000000.0</td>\n",
       "      <td>51000000.0</td>\n",
       "      <td>107.0</td>\n",
       "      <td>Released</td>\n",
       "      <td>Survive together or die alone.</td>\n",
       "      <td>6.901</td>\n",
       "      <td>785.0</td>\n",
       "      <td>Gerard Butler-Mike Colter-Yoson An-Tony Goldwy...</td>\n",
       "      <td>pilot-airplane-philippines-held hostage-plane ...</td>\n",
       "      <td>/qi9r5xBgcc9KTxlOLjssEbDgO0J.jpg</td>\n",
       "      <td>/9Rq14Eyrf7Tu1xk0Pl7VcNbNh1n.jpg</td>\n",
       "      <td>505642-758769-864692-631842-1058949-925943-758...</td>\n",
       "    </tr>\n",
       "    <tr>\n",
       "      <th>2</th>\n",
       "      <td>505642</td>\n",
       "      <td>Black Panther: Wakanda Forever</td>\n",
       "      <td>Action-Adventure-Science Fiction</td>\n",
       "      <td>en</td>\n",
       "      <td>Queen Ramonda Shuri M’Baku Okoye and the Dora ...</td>\n",
       "      <td>2525.408</td>\n",
       "      <td>Marvel Studios</td>\n",
       "      <td>2022-11-09</td>\n",
       "      <td>250000000.0</td>\n",
       "      <td>858535561.0</td>\n",
       "      <td>162.0</td>\n",
       "      <td>Released</td>\n",
       "      <td>Forever.</td>\n",
       "      <td>7.338</td>\n",
       "      <td>3922.0</td>\n",
       "      <td>Letitia Wright-Lupita Nyong'o-Danai Gurira-Win...</td>\n",
       "      <td>loss of loved one-hero-sequel-superhero-based ...</td>\n",
       "      <td>/sv1xJUazXeYqALzczSZ3O6nkH75.jpg</td>\n",
       "      <td>/xDMIl84Qo5Tsu62c9DGWhmPI67A.jpg</td>\n",
       "      <td>436270-829280-76600-56969-312634-1037858-238-5...</td>\n",
       "    </tr>\n",
       "    <tr>\n",
       "      <th>3</th>\n",
       "      <td>956101</td>\n",
       "      <td>The Eighth Clause</td>\n",
       "      <td>Thriller</td>\n",
       "      <td>la</td>\n",
       "      <td>Kat and Borja appear to be a perfect couple bu...</td>\n",
       "      <td>2259.303</td>\n",
       "      <td>SDB Films-El Hombre Orquesta</td>\n",
       "      <td>2022-04-29</td>\n",
       "      <td>0.0</td>\n",
       "      <td>0.0</td>\n",
       "      <td>0.0</td>\n",
       "      <td>Released</td>\n",
       "      <td>NaN</td>\n",
       "      <td>4.600</td>\n",
       "      <td>10.0</td>\n",
       "      <td>Maite Perroni-Manuel Vega-Óscar Jaenada-Jessic...</td>\n",
       "      <td>NaN</td>\n",
       "      <td>/8tc8eMFAX2SDC1TRu987qFQy8Cl.jpg</td>\n",
       "      <td>/kLnqNE9Af5QHyvUxw8cDGhF1ilv.jpg</td>\n",
       "      <td>NaN</td>\n",
       "    </tr>\n",
       "    <tr>\n",
       "      <th>4</th>\n",
       "      <td>603692</td>\n",
       "      <td>John Wick: Chapter 4</td>\n",
       "      <td>Action-Thriller-Crime</td>\n",
       "      <td>en</td>\n",
       "      <td>With the price on his head ever increasing Joh...</td>\n",
       "      <td>2252.114</td>\n",
       "      <td>Thunder Road-87Eleven-Lionsgate-Summit Enterta...</td>\n",
       "      <td>2023-03-22</td>\n",
       "      <td>90000000.0</td>\n",
       "      <td>0.0</td>\n",
       "      <td>169.0</td>\n",
       "      <td>Released</td>\n",
       "      <td>No way back. One way out.</td>\n",
       "      <td>8.319</td>\n",
       "      <td>202.0</td>\n",
       "      <td>Keanu Reeves-Donnie Yen-Bill Skarsgård-Ian McS...</td>\n",
       "      <td>new york city-martial arts-hitman-sequel-organ...</td>\n",
       "      <td>/vZloFAK7NmvMGKE7VkF5UHaz0I.jpg</td>\n",
       "      <td>/i8dshLvq4LE3s0v8PrkDdUyb1ae.jpg</td>\n",
       "      <td>677179-804095</td>\n",
       "    </tr>\n",
       "  </tbody>\n",
       "</table>\n",
       "</div>"
      ],
      "text/plain": [
       "       id                           title                            genres  \\\n",
       "0  631842              Knock at the Cabin           Horror-Mystery-Thriller   \n",
       "1  646389                           Plane         Action-Adventure-Thriller   \n",
       "2  505642  Black Panther: Wakanda Forever  Action-Adventure-Science Fiction   \n",
       "3  956101               The Eighth Clause                          Thriller   \n",
       "4  603692            John Wick: Chapter 4             Action-Thriller-Crime   \n",
       "\n",
       "  original_language                                           overview  \\\n",
       "0                en  While vacationing at a remote cabin a young gi...   \n",
       "1                en  After a heroic job of successfully landing his...   \n",
       "2                en  Queen Ramonda Shuri M’Baku Okoye and the Dora ...   \n",
       "3                la  Kat and Borja appear to be a perfect couple bu...   \n",
       "4                en  With the price on his head ever increasing Joh...   \n",
       "\n",
       "   popularity                               production_companies release_date  \\\n",
       "0    3422.537  Blinding Edge Pictures-Universal Pictures-Film...   2023-02-01   \n",
       "1    2618.646  MadRiver Pictures-Di Bonaventura Pictures-G-BA...   2023-01-12   \n",
       "2    2525.408                                     Marvel Studios   2022-11-09   \n",
       "3    2259.303                       SDB Films-El Hombre Orquesta   2022-04-29   \n",
       "4    2252.114  Thunder Road-87Eleven-Lionsgate-Summit Enterta...   2023-03-22   \n",
       "\n",
       "        budget      revenue  runtime    status  \\\n",
       "0   20000000.0   52000000.0    100.0  Released   \n",
       "1   25000000.0   51000000.0    107.0  Released   \n",
       "2  250000000.0  858535561.0    162.0  Released   \n",
       "3          0.0          0.0      0.0  Released   \n",
       "4   90000000.0          0.0    169.0  Released   \n",
       "\n",
       "                                             tagline  vote_average  \\\n",
       "0  Save your family or save humanity. Make the ch...         6.457   \n",
       "1                     Survive together or die alone.         6.901   \n",
       "2                                           Forever.         7.338   \n",
       "3                                                NaN         4.600   \n",
       "4                          No way back. One way out.         8.319   \n",
       "\n",
       "   vote_count                                            credits  \\\n",
       "0       888.0  Dave Bautista-Jonathan Groff-Ben Aldridge-Kris...   \n",
       "1       785.0  Gerard Butler-Mike Colter-Yoson An-Tony Goldwy...   \n",
       "2      3922.0  Letitia Wright-Lupita Nyong'o-Danai Gurira-Win...   \n",
       "3        10.0  Maite Perroni-Manuel Vega-Óscar Jaenada-Jessic...   \n",
       "4       202.0  Keanu Reeves-Donnie Yen-Bill Skarsgård-Ian McS...   \n",
       "\n",
       "                                            keywords  \\\n",
       "0  based on novel or book-sacrifice-cabin-faith-e...   \n",
       "1  pilot-airplane-philippines-held hostage-plane ...   \n",
       "2  loss of loved one-hero-sequel-superhero-based ...   \n",
       "3                                                NaN   \n",
       "4  new york city-martial arts-hitman-sequel-organ...   \n",
       "\n",
       "                        poster_path                     backdrop_path  \\\n",
       "0  /dm06L9pxDOL9jNSK4Cb6y139rrG.jpg  /zWDMQX0sPaW2u0N2pJaYA8bVVaJ.jpg   \n",
       "1  /qi9r5xBgcc9KTxlOLjssEbDgO0J.jpg  /9Rq14Eyrf7Tu1xk0Pl7VcNbNh1n.jpg   \n",
       "2  /sv1xJUazXeYqALzczSZ3O6nkH75.jpg  /xDMIl84Qo5Tsu62c9DGWhmPI67A.jpg   \n",
       "3  /8tc8eMFAX2SDC1TRu987qFQy8Cl.jpg  /kLnqNE9Af5QHyvUxw8cDGhF1ilv.jpg   \n",
       "4   /vZloFAK7NmvMGKE7VkF5UHaz0I.jpg  /i8dshLvq4LE3s0v8PrkDdUyb1ae.jpg   \n",
       "\n",
       "                                     recommendations  \n",
       "0  1058949-646389-772515-505642-143970-667216-104...  \n",
       "1  505642-758769-864692-631842-1058949-925943-758...  \n",
       "2  436270-829280-76600-56969-312634-1037858-238-5...  \n",
       "3                                                NaN  \n",
       "4                                      677179-804095  "
      ]
     },
     "execution_count": 30,
     "metadata": {},
     "output_type": "execute_result"
    }
   ],
   "source": [
    "movies_data = pd.read_csv('updated_movie.csv')\n",
    "movies_data.head()"
   ]
  },
  {
   "cell_type": "code",
   "execution_count": 31,
   "metadata": {},
   "outputs": [
    {
     "data": {
      "text/plain": [
       "(722986, 20)"
      ]
     },
     "execution_count": 31,
     "metadata": {},
     "output_type": "execute_result"
    }
   ],
   "source": [
    "movies_data.shape"
   ]
  },
  {
   "cell_type": "code",
   "execution_count": null,
   "metadata": {},
   "outputs": [],
   "source": [
    "df = pd.DataFrame(movies_data)"
   ]
  },
  {
   "cell_type": "code",
   "execution_count": 35,
   "metadata": {
    "colab": {
     "base_uri": "https://localhost:8080/",
     "height": 285
    },
    "id": "y8jd6VDmSKIZ",
    "outputId": "c9729d1a-b47e-44e0-aa1e-e609429f4f01"
   },
   "outputs": [
    {
     "data": {
      "image/png": "[encoded data removed]",
      "text/plain": [
       "<Figure size 1000x700 with 1 Axes>"
      ]
     },
     "metadata": {},
     "output_type": "display_data"
    }
   ],
   "source": [
    "from matplotlib import pyplot as plt\n",
    "sns.histplot(df['popularity'][:50],kde = True)\n",
    "plt.show()"
   ]
  },
  {
   "cell_type": "code",
   "execution_count": 36,
   "metadata": {
    "colab": {
     "base_uri": "https://localhost:8080/",
     "height": 500
    },
    "id": "lRRnOtLETlJ8",
    "outputId": "14b3bf08-5625-4135-9860-428c3b177bbe"
   },
   "outputs": [
    {
     "name": "stderr",
     "output_type": "stream",
     "text": [
      "C:\\Users\\Admin\\AppData\\Local\\Temp\\ipykernel_5724\\3734754524.py:3: FutureWarning: The default value of numeric_only in DataFrame.corr is deprecated. In a future version, it will default to False. Select only valid columns or specify the value of numeric_only to silence this warning.\n",
      "  sns.heatmap(df.corr(),annot=True,cmap=\"coolwarm\")\n"
     ]
    },
    {
     "data": {
      "image/png": "[encoded data removed]",
      "text/plain": [
       "<Figure size 1000x700 with 2 Axes>"
      ]
     },
     "metadata": {},
     "output_type": "display_data"
    }
   ],
   "source": [
    "#Heatmap\n",
    "sns.set(rc={\"figure.figsize\":(10,7)})\n",
    "sns.heatmap(df.corr(),annot=True,cmap=\"coolwarm\")\n",
    "plt.show()"
   ]
  },
  {
   "cell_type": "code",
   "execution_count": 37,
   "metadata": {
    "colab": {
     "base_uri": "https://localhost:8080/"
    },
    "id": "Mx3K5jz7JT8r",
    "outputId": "8f73a11f-da1f-4dd5-fb93-926f94541c43"
   },
   "outputs": [
    {
     "data": {
      "text/plain": [
       "(722986, 20)"
      ]
     },
     "execution_count": 37,
     "metadata": {},
     "output_type": "execute_result"
    }
   ],
   "source": [
    "movies_data.shape"
   ]
  },
  {
   "cell_type": "code",
   "execution_count": 38,
   "metadata": {},
   "outputs": [],
   "source": [
    "#id,title,overview,genres,keywords"
   ]
  },
  {
   "cell_type": "code",
   "execution_count": 39,
   "metadata": {},
   "outputs": [],
   "source": [
    "movies = movies_data[['id','title','popularity','genres','production_companies','tagline','keywords','poster_path']]"
   ]
  },
  {
   "cell_type": "code",
   "execution_count": 40,
   "metadata": {},
   "outputs": [
    {
     "name": "stderr",
     "output_type": "stream",
     "text": [
      "C:\\Users\\Admin\\AppData\\Local\\Temp\\ipykernel_5724\\2908781970.py:1: SettingWithCopyWarning: \n",
      "A value is trying to be set on a copy of a slice from a DataFrame\n",
      "\n",
      "See the caveats in the documentation: https://pandas.pydata.org/pandas-docs/stable/user_guide/indexing.html#returning-a-view-versus-a-copy\n",
      "  movies.dropna(inplace=True)\n",
      "C:\\Users\\Admin\\AppData\\Local\\Temp\\ipykernel_5724\\2908781970.py:4: SettingWithCopyWarning: \n",
      "A value is trying to be set on a copy of a slice from a DataFrame\n",
      "\n",
      "See the caveats in the documentation: https://pandas.pydata.org/pandas-docs/stable/user_guide/indexing.html#returning-a-view-versus-a-copy\n",
      "  movies.drop_duplicates(inplace=True)\n"
     ]
    },
    {
     "data": {
      "text/plain": [
       "(49725, 8)"
      ]
     },
     "execution_count": 40,
     "metadata": {},
     "output_type": "execute_result"
    }
   ],
   "source": [
    "movies.dropna(inplace=True)\n",
    "movies.isnull().sum()\n",
    "movies.duplicated().sum()\n",
    "movies.drop_duplicates(inplace=True)\n",
    "movies.shape"
   ]
  },
  {
   "cell_type": "code",
   "execution_count": 41,
   "metadata": {},
   "outputs": [
    {
     "data": {
      "text/html": [
       "<div>\n",
       "<style scoped>\n",
       "    .dataframe tbody tr th:only-of-type {\n",
       "        vertical-align: middle;\n",
       "    }\n",
       "\n",
       "    .dataframe tbody tr th {\n",
       "        vertical-align: top;\n",
       "    }\n",
       "\n",
       "    .dataframe thead th {\n",
       "        text-align: right;\n",
       "    }\n",
       "</style>\n",
       "<table border=\"1\" class=\"dataframe\">\n",
       "  <thead>\n",
       "    <tr style=\"text-align: right;\">\n",
       "      <th></th>\n",
       "      <th>id</th>\n",
       "      <th>title</th>\n",
       "      <th>popularity</th>\n",
       "      <th>genres</th>\n",
       "      <th>production_companies</th>\n",
       "      <th>tagline</th>\n",
       "      <th>keywords</th>\n",
       "      <th>poster_path</th>\n",
       "    </tr>\n",
       "  </thead>\n",
       "  <tbody>\n",
       "    <tr>\n",
       "      <th>0</th>\n",
       "      <td>631842</td>\n",
       "      <td>Knock at the Cabin</td>\n",
       "      <td>3422.537</td>\n",
       "      <td>Horror-Mystery-Thriller</td>\n",
       "      <td>Blinding Edge Pictures-Universal Pictures-Film...</td>\n",
       "      <td>Save your family or save humanity. Make the ch...</td>\n",
       "      <td>based on novel or book-sacrifice-cabin-faith-e...</td>\n",
       "      <td>/dm06L9pxDOL9jNSK4Cb6y139rrG.jpg</td>\n",
       "    </tr>\n",
       "    <tr>\n",
       "      <th>1</th>\n",
       "      <td>646389</td>\n",
       "      <td>Plane</td>\n",
       "      <td>2618.646</td>\n",
       "      <td>Action-Adventure-Thriller</td>\n",
       "      <td>MadRiver Pictures-Di Bonaventura Pictures-G-BA...</td>\n",
       "      <td>Survive together or die alone.</td>\n",
       "      <td>pilot-airplane-philippines-held hostage-plane ...</td>\n",
       "      <td>/qi9r5xBgcc9KTxlOLjssEbDgO0J.jpg</td>\n",
       "    </tr>\n",
       "    <tr>\n",
       "      <th>2</th>\n",
       "      <td>505642</td>\n",
       "      <td>Black Panther: Wakanda Forever</td>\n",
       "      <td>2525.408</td>\n",
       "      <td>Action-Adventure-Science Fiction</td>\n",
       "      <td>Marvel Studios</td>\n",
       "      <td>Forever.</td>\n",
       "      <td>loss of loved one-hero-sequel-superhero-based ...</td>\n",
       "      <td>/sv1xJUazXeYqALzczSZ3O6nkH75.jpg</td>\n",
       "    </tr>\n",
       "    <tr>\n",
       "      <th>4</th>\n",
       "      <td>603692</td>\n",
       "      <td>John Wick: Chapter 4</td>\n",
       "      <td>2252.114</td>\n",
       "      <td>Action-Thriller-Crime</td>\n",
       "      <td>Thunder Road-87Eleven-Lionsgate-Summit Enterta...</td>\n",
       "      <td>No way back. One way out.</td>\n",
       "      <td>new york city-martial arts-hitman-sequel-organ...</td>\n",
       "      <td>/vZloFAK7NmvMGKE7VkF5UHaz0I.jpg</td>\n",
       "    </tr>\n",
       "    <tr>\n",
       "      <th>5</th>\n",
       "      <td>315162</td>\n",
       "      <td>Puss in Boots: The Last Wish</td>\n",
       "      <td>2078.280</td>\n",
       "      <td>Animation-Adventure-Comedy-Family</td>\n",
       "      <td>DreamWorks Animation-Universal Pictures</td>\n",
       "      <td>Say hola to his little friends.</td>\n",
       "      <td>fairy tale-talking dog-spin off-aftercreditsst...</td>\n",
       "      <td>/kuf6dutpsT0vSVehic3EZIqkOBt.jpg</td>\n",
       "    </tr>\n",
       "  </tbody>\n",
       "</table>\n",
       "</div>"
      ],
      "text/plain": [
       "       id                           title  popularity  \\\n",
       "0  631842              Knock at the Cabin    3422.537   \n",
       "1  646389                           Plane    2618.646   \n",
       "2  505642  Black Panther: Wakanda Forever    2525.408   \n",
       "4  603692            John Wick: Chapter 4    2252.114   \n",
       "5  315162    Puss in Boots: The Last Wish    2078.280   \n",
       "\n",
       "                              genres  \\\n",
       "0            Horror-Mystery-Thriller   \n",
       "1          Action-Adventure-Thriller   \n",
       "2   Action-Adventure-Science Fiction   \n",
       "4              Action-Thriller-Crime   \n",
       "5  Animation-Adventure-Comedy-Family   \n",
       "\n",
       "                                production_companies  \\\n",
       "0  Blinding Edge Pictures-Universal Pictures-Film...   \n",
       "1  MadRiver Pictures-Di Bonaventura Pictures-G-BA...   \n",
       "2                                     Marvel Studios   \n",
       "4  Thunder Road-87Eleven-Lionsgate-Summit Enterta...   \n",
       "5            DreamWorks Animation-Universal Pictures   \n",
       "\n",
       "                                             tagline  \\\n",
       "0  Save your family or save humanity. Make the ch...   \n",
       "1                     Survive together or die alone.   \n",
       "2                                           Forever.   \n",
       "4                          No way back. One way out.   \n",
       "5                    Say hola to his little friends.   \n",
       "\n",
       "                                            keywords  \\\n",
       "0  based on novel or book-sacrifice-cabin-faith-e...   \n",
       "1  pilot-airplane-philippines-held hostage-plane ...   \n",
       "2  loss of loved one-hero-sequel-superhero-based ...   \n",
       "4  new york city-martial arts-hitman-sequel-organ...   \n",
       "5  fairy tale-talking dog-spin off-aftercreditsst...   \n",
       "\n",
       "                        poster_path  \n",
       "0  /dm06L9pxDOL9jNSK4Cb6y139rrG.jpg  \n",
       "1  /qi9r5xBgcc9KTxlOLjssEbDgO0J.jpg  \n",
       "2  /sv1xJUazXeYqALzczSZ3O6nkH75.jpg  \n",
       "4   /vZloFAK7NmvMGKE7VkF5UHaz0I.jpg  \n",
       "5  /kuf6dutpsT0vSVehic3EZIqkOBt.jpg  "
      ]
     },
     "execution_count": 41,
     "metadata": {},
     "output_type": "execute_result"
    }
   ],
   "source": [
    "movies.head()"
   ]
  },
  {
   "cell_type": "code",
   "execution_count": 42,
   "metadata": {},
   "outputs": [
    {
     "name": "stderr",
     "output_type": "stream",
     "text": [
      "C:\\Users\\Admin\\AppData\\Local\\Temp\\ipykernel_5724\\1824534365.py:1: SettingWithCopyWarning: \n",
      "A value is trying to be set on a copy of a slice from a DataFrame\n",
      "\n",
      "See the caveats in the documentation: https://pandas.pydata.org/pandas-docs/stable/user_guide/indexing.html#returning-a-view-versus-a-copy\n",
      "  movies.drop(index=movies.tail(34000).index, inplace=True)\n"
     ]
    }
   ],
   "source": [
    "movies.drop(index=movies.tail(34000).index, inplace=True)"
   ]
  },
  {
   "cell_type": "code",
   "execution_count": 43,
   "metadata": {},
   "outputs": [
    {
     "data": {
      "text/plain": [
       "(15725, 8)"
      ]
     },
     "execution_count": 43,
     "metadata": {},
     "output_type": "execute_result"
    }
   ],
   "source": [
    "movies.shape"
   ]
  },
  {
   "cell_type": "code",
   "execution_count": 44,
   "metadata": {},
   "outputs": [
    {
     "name": "stderr",
     "output_type": "stream",
     "text": [
      "C:\\Users\\Admin\\AppData\\Local\\Temp\\ipykernel_5724\\153181873.py:5: SettingWithCopyWarning: \n",
      "A value is trying to be set on a copy of a slice from a DataFrame.\n",
      "Try using .loc[row_indexer,col_indexer] = value instead\n",
      "\n",
      "See the caveats in the documentation: https://pandas.pydata.org/pandas-docs/stable/user_guide/indexing.html#returning-a-view-versus-a-copy\n",
      "  movies['rating'] = scaler.fit_transform(movies[['popularity']])\n"
     ]
    },
    {
     "data": {
      "text/html": [
       "<div>\n",
       "<style scoped>\n",
       "    .dataframe tbody tr th:only-of-type {\n",
       "        vertical-align: middle;\n",
       "    }\n",
       "\n",
       "    .dataframe tbody tr th {\n",
       "        vertical-align: top;\n",
       "    }\n",
       "\n",
       "    .dataframe thead th {\n",
       "        text-align: right;\n",
       "    }\n",
       "</style>\n",
       "<table border=\"1\" class=\"dataframe\">\n",
       "  <thead>\n",
       "    <tr style=\"text-align: right;\">\n",
       "      <th></th>\n",
       "      <th>id</th>\n",
       "      <th>title</th>\n",
       "      <th>popularity</th>\n",
       "      <th>genres</th>\n",
       "      <th>production_companies</th>\n",
       "      <th>tagline</th>\n",
       "      <th>keywords</th>\n",
       "      <th>poster_path</th>\n",
       "      <th>rating</th>\n",
       "    </tr>\n",
       "  </thead>\n",
       "  <tbody>\n",
       "    <tr>\n",
       "      <th>0</th>\n",
       "      <td>631842</td>\n",
       "      <td>Knock at the Cabin</td>\n",
       "      <td>3422.537</td>\n",
       "      <td>Horror-Mystery-Thriller</td>\n",
       "      <td>Blinding Edge Pictures-Universal Pictures-Film...</td>\n",
       "      <td>Save your family or save humanity. Make the ch...</td>\n",
       "      <td>based on novel or book-sacrifice-cabin-faith-e...</td>\n",
       "      <td>/dm06L9pxDOL9jNSK4Cb6y139rrG.jpg</td>\n",
       "      <td>5.000000</td>\n",
       "    </tr>\n",
       "    <tr>\n",
       "      <th>1</th>\n",
       "      <td>646389</td>\n",
       "      <td>Plane</td>\n",
       "      <td>2618.646</td>\n",
       "      <td>Action-Adventure-Thriller</td>\n",
       "      <td>MadRiver Pictures-Di Bonaventura Pictures-G-BA...</td>\n",
       "      <td>Survive together or die alone.</td>\n",
       "      <td>pilot-airplane-philippines-held hostage-plane ...</td>\n",
       "      <td>/qi9r5xBgcc9KTxlOLjssEbDgO0J.jpg</td>\n",
       "      <td>4.058892</td>\n",
       "    </tr>\n",
       "    <tr>\n",
       "      <th>2</th>\n",
       "      <td>505642</td>\n",
       "      <td>Black Panther: Wakanda Forever</td>\n",
       "      <td>2525.408</td>\n",
       "      <td>Action-Adventure-Science Fiction</td>\n",
       "      <td>Marvel Studios</td>\n",
       "      <td>Forever.</td>\n",
       "      <td>loss of loved one-hero-sequel-superhero-based ...</td>\n",
       "      <td>/sv1xJUazXeYqALzczSZ3O6nkH75.jpg</td>\n",
       "      <td>3.949740</td>\n",
       "    </tr>\n",
       "    <tr>\n",
       "      <th>4</th>\n",
       "      <td>603692</td>\n",
       "      <td>John Wick: Chapter 4</td>\n",
       "      <td>2252.114</td>\n",
       "      <td>Action-Thriller-Crime</td>\n",
       "      <td>Thunder Road-87Eleven-Lionsgate-Summit Enterta...</td>\n",
       "      <td>No way back. One way out.</td>\n",
       "      <td>new york city-martial arts-hitman-sequel-organ...</td>\n",
       "      <td>/vZloFAK7NmvMGKE7VkF5UHaz0I.jpg</td>\n",
       "      <td>3.629797</td>\n",
       "    </tr>\n",
       "    <tr>\n",
       "      <th>5</th>\n",
       "      <td>315162</td>\n",
       "      <td>Puss in Boots: The Last Wish</td>\n",
       "      <td>2078.280</td>\n",
       "      <td>Animation-Adventure-Comedy-Family</td>\n",
       "      <td>DreamWorks Animation-Universal Pictures</td>\n",
       "      <td>Say hola to his little friends.</td>\n",
       "      <td>fairy tale-talking dog-spin off-aftercreditsst...</td>\n",
       "      <td>/kuf6dutpsT0vSVehic3EZIqkOBt.jpg</td>\n",
       "      <td>3.426291</td>\n",
       "    </tr>\n",
       "  </tbody>\n",
       "</table>\n",
       "</div>"
      ],
      "text/plain": [
       "       id                           title  popularity  \\\n",
       "0  631842              Knock at the Cabin    3422.537   \n",
       "1  646389                           Plane    2618.646   \n",
       "2  505642  Black Panther: Wakanda Forever    2525.408   \n",
       "4  603692            John Wick: Chapter 4    2252.114   \n",
       "5  315162    Puss in Boots: The Last Wish    2078.280   \n",
       "\n",
       "                              genres  \\\n",
       "0            Horror-Mystery-Thriller   \n",
       "1          Action-Adventure-Thriller   \n",
       "2   Action-Adventure-Science Fiction   \n",
       "4              Action-Thriller-Crime   \n",
       "5  Animation-Adventure-Comedy-Family   \n",
       "\n",
       "                                production_companies  \\\n",
       "0  Blinding Edge Pictures-Universal Pictures-Film...   \n",
       "1  MadRiver Pictures-Di Bonaventura Pictures-G-BA...   \n",
       "2                                     Marvel Studios   \n",
       "4  Thunder Road-87Eleven-Lionsgate-Summit Enterta...   \n",
       "5            DreamWorks Animation-Universal Pictures   \n",
       "\n",
       "                                             tagline  \\\n",
       "0  Save your family or save humanity. Make the ch...   \n",
       "1                     Survive together or die alone.   \n",
       "2                                           Forever.   \n",
       "4                          No way back. One way out.   \n",
       "5                    Say hola to his little friends.   \n",
       "\n",
       "                                            keywords  \\\n",
       "0  based on novel or book-sacrifice-cabin-faith-e...   \n",
       "1  pilot-airplane-philippines-held hostage-plane ...   \n",
       "2  loss of loved one-hero-sequel-superhero-based ...   \n",
       "4  new york city-martial arts-hitman-sequel-organ...   \n",
       "5  fairy tale-talking dog-spin off-aftercreditsst...   \n",
       "\n",
       "                        poster_path    rating  \n",
       "0  /dm06L9pxDOL9jNSK4Cb6y139rrG.jpg  5.000000  \n",
       "1  /qi9r5xBgcc9KTxlOLjssEbDgO0J.jpg  4.058892  \n",
       "2  /sv1xJUazXeYqALzczSZ3O6nkH75.jpg  3.949740  \n",
       "4   /vZloFAK7NmvMGKE7VkF5UHaz0I.jpg  3.629797  \n",
       "5  /kuf6dutpsT0vSVehic3EZIqkOBt.jpg  3.426291  "
      ]
     },
     "execution_count": 44,
     "metadata": {},
     "output_type": "execute_result"
    }
   ],
   "source": [
    "#converting popularity to rating\n",
    "\n",
    "# from sklearn.preprocessing import MinMaxScaler\n",
    "# scaler = MinMaxScaler(feature_range=(1, 5))\n",
    "# movies['rating'] = scaler.fit_transform(movies[['popularity']])\n",
    "# movies.head()"
   ]
  },
  {
   "cell_type": "code",
   "execution_count": null,
   "metadata": {},
   "outputs": [],
   "source": [
    "# pip install pickle"
   ]
  },
  {
   "cell_type": "code",
   "execution_count": 45,
   "metadata": {},
   "outputs": [],
   "source": [
    "import pickle\n",
    "\n",
    "pickle.dump(movies,open('artifacts/cleaned_movies.pkl','wb'))"
   ]
  },
  {
   "cell_type": "code",
   "execution_count": 46,
   "metadata": {},
   "outputs": [
    {
     "name": "stderr",
     "output_type": "stream",
     "text": [
      "C:\\Users\\Admin\\AppData\\Local\\Temp\\ipykernel_5724\\2075860557.py:5: SettingWithCopyWarning: \n",
      "A value is trying to be set on a copy of a slice from a DataFrame.\n",
      "Try using .loc[row_indexer,col_indexer] = value instead\n",
      "\n",
      "See the caveats in the documentation: https://pandas.pydata.org/pandas-docs/stable/user_guide/indexing.html#returning-a-view-versus-a-copy\n",
      "  movies['genres'] = movies['genres'].apply(split_genres)\n",
      "C:\\Users\\Admin\\AppData\\Local\\Temp\\ipykernel_5724\\2075860557.py:6: SettingWithCopyWarning: \n",
      "A value is trying to be set on a copy of a slice from a DataFrame.\n",
      "Try using .loc[row_indexer,col_indexer] = value instead\n",
      "\n",
      "See the caveats in the documentation: https://pandas.pydata.org/pandas-docs/stable/user_guide/indexing.html#returning-a-view-versus-a-copy\n",
      "  movies['production_companies'] = movies['production_companies'].apply(split_genres)\n",
      "C:\\Users\\Admin\\AppData\\Local\\Temp\\ipykernel_5724\\2075860557.py:7: SettingWithCopyWarning: \n",
      "A value is trying to be set on a copy of a slice from a DataFrame.\n",
      "Try using .loc[row_indexer,col_indexer] = value instead\n",
      "\n",
      "See the caveats in the documentation: https://pandas.pydata.org/pandas-docs/stable/user_guide/indexing.html#returning-a-view-versus-a-copy\n",
      "  movies['keywords'] = movies['keywords'].apply(split_genres)\n"
     ]
    }
   ],
   "source": [
    "def split_genres(genre_string):\n",
    "    return genre_string.split(\"-\")\n",
    "\n",
    "# Apply the function to the genres column\n",
    "movies['genres'] = movies['genres'].apply(split_genres)\n",
    "movies['production_companies'] = movies['production_companies'].apply(split_genres)\n",
    "movies['keywords'] = movies['keywords'].apply(split_genres)\n"
   ]
  },
  {
   "cell_type": "code",
   "execution_count": 47,
   "metadata": {},
   "outputs": [
    {
     "name": "stderr",
     "output_type": "stream",
     "text": [
      "C:\\Users\\Admin\\AppData\\Local\\Temp\\ipykernel_5724\\1235512.py:6: SettingWithCopyWarning: \n",
      "A value is trying to be set on a copy of a slice from a DataFrame.\n",
      "Try using .loc[row_indexer,col_indexer] = value instead\n",
      "\n",
      "See the caveats in the documentation: https://pandas.pydata.org/pandas-docs/stable/user_guide/indexing.html#returning-a-view-versus-a-copy\n",
      "  movies['tagline'] = movies['tagline'].apply(split_tagline)\n"
     ]
    }
   ],
   "source": [
    "# Define a function to split the tagline string into a list of words\n",
    "def split_tagline(tagline_string):\n",
    "    return tagline_string.split()\n",
    "\n",
    "# Apply the function to the tagline column\n",
    "movies['tagline'] = movies['tagline'].apply(split_tagline)"
   ]
  },
  {
   "cell_type": "code",
   "execution_count": 48,
   "metadata": {},
   "outputs": [
    {
     "data": {
      "text/html": [
       "<div>\n",
       "<style scoped>\n",
       "    .dataframe tbody tr th:only-of-type {\n",
       "        vertical-align: middle;\n",
       "    }\n",
       "\n",
       "    .dataframe tbody tr th {\n",
       "        vertical-align: top;\n",
       "    }\n",
       "\n",
       "    .dataframe thead th {\n",
       "        text-align: right;\n",
       "    }\n",
       "</style>\n",
       "<table border=\"1\" class=\"dataframe\">\n",
       "  <thead>\n",
       "    <tr style=\"text-align: right;\">\n",
       "      <th></th>\n",
       "      <th>id</th>\n",
       "      <th>title</th>\n",
       "      <th>popularity</th>\n",
       "      <th>genres</th>\n",
       "      <th>production_companies</th>\n",
       "      <th>tagline</th>\n",
       "      <th>keywords</th>\n",
       "      <th>poster_path</th>\n",
       "      <th>rating</th>\n",
       "    </tr>\n",
       "  </thead>\n",
       "  <tbody>\n",
       "    <tr>\n",
       "      <th>0</th>\n",
       "      <td>631842</td>\n",
       "      <td>Knock at the Cabin</td>\n",
       "      <td>3422.537</td>\n",
       "      <td>[Horror, Mystery, Thriller]</td>\n",
       "      <td>[Blinding Edge Pictures, Universal Pictures, F...</td>\n",
       "      <td>[Save, your, family, or, save, humanity., Make...</td>\n",
       "      <td>[based on novel or book, sacrifice, cabin, fai...</td>\n",
       "      <td>/dm06L9pxDOL9jNSK4Cb6y139rrG.jpg</td>\n",
       "      <td>5.000000</td>\n",
       "    </tr>\n",
       "    <tr>\n",
       "      <th>1</th>\n",
       "      <td>646389</td>\n",
       "      <td>Plane</td>\n",
       "      <td>2618.646</td>\n",
       "      <td>[Action, Adventure, Thriller]</td>\n",
       "      <td>[MadRiver Pictures, Di Bonaventura Pictures, G...</td>\n",
       "      <td>[Survive, together, or, die, alone.]</td>\n",
       "      <td>[pilot, airplane, philippines, held hostage, p...</td>\n",
       "      <td>/qi9r5xBgcc9KTxlOLjssEbDgO0J.jpg</td>\n",
       "      <td>4.058892</td>\n",
       "    </tr>\n",
       "    <tr>\n",
       "      <th>2</th>\n",
       "      <td>505642</td>\n",
       "      <td>Black Panther: Wakanda Forever</td>\n",
       "      <td>2525.408</td>\n",
       "      <td>[Action, Adventure, Science Fiction]</td>\n",
       "      <td>[Marvel Studios]</td>\n",
       "      <td>[Forever.]</td>\n",
       "      <td>[loss of loved one, hero, sequel, superhero, b...</td>\n",
       "      <td>/sv1xJUazXeYqALzczSZ3O6nkH75.jpg</td>\n",
       "      <td>3.949740</td>\n",
       "    </tr>\n",
       "    <tr>\n",
       "      <th>4</th>\n",
       "      <td>603692</td>\n",
       "      <td>John Wick: Chapter 4</td>\n",
       "      <td>2252.114</td>\n",
       "      <td>[Action, Thriller, Crime]</td>\n",
       "      <td>[Thunder Road, 87Eleven, Lionsgate, Summit Ent...</td>\n",
       "      <td>[No, way, back., One, way, out.]</td>\n",
       "      <td>[new york city, martial arts, hitman, sequel, ...</td>\n",
       "      <td>/vZloFAK7NmvMGKE7VkF5UHaz0I.jpg</td>\n",
       "      <td>3.629797</td>\n",
       "    </tr>\n",
       "    <tr>\n",
       "      <th>5</th>\n",
       "      <td>315162</td>\n",
       "      <td>Puss in Boots: The Last Wish</td>\n",
       "      <td>2078.280</td>\n",
       "      <td>[Animation, Adventure, Comedy, Family]</td>\n",
       "      <td>[DreamWorks Animation, Universal Pictures]</td>\n",
       "      <td>[Say, hola, to, his, little, friends.]</td>\n",
       "      <td>[fairy tale, talking dog, spin off, aftercredi...</td>\n",
       "      <td>/kuf6dutpsT0vSVehic3EZIqkOBt.jpg</td>\n",
       "      <td>3.426291</td>\n",
       "    </tr>\n",
       "  </tbody>\n",
       "</table>\n",
       "</div>"
      ],
      "text/plain": [
       "       id                           title  popularity  \\\n",
       "0  631842              Knock at the Cabin    3422.537   \n",
       "1  646389                           Plane    2618.646   \n",
       "2  505642  Black Panther: Wakanda Forever    2525.408   \n",
       "4  603692            John Wick: Chapter 4    2252.114   \n",
       "5  315162    Puss in Boots: The Last Wish    2078.280   \n",
       "\n",
       "                                   genres  \\\n",
       "0             [Horror, Mystery, Thriller]   \n",
       "1           [Action, Adventure, Thriller]   \n",
       "2    [Action, Adventure, Science Fiction]   \n",
       "4               [Action, Thriller, Crime]   \n",
       "5  [Animation, Adventure, Comedy, Family]   \n",
       "\n",
       "                                production_companies  \\\n",
       "0  [Blinding Edge Pictures, Universal Pictures, F...   \n",
       "1  [MadRiver Pictures, Di Bonaventura Pictures, G...   \n",
       "2                                   [Marvel Studios]   \n",
       "4  [Thunder Road, 87Eleven, Lionsgate, Summit Ent...   \n",
       "5         [DreamWorks Animation, Universal Pictures]   \n",
       "\n",
       "                                             tagline  \\\n",
       "0  [Save, your, family, or, save, humanity., Make...   \n",
       "1               [Survive, together, or, die, alone.]   \n",
       "2                                         [Forever.]   \n",
       "4                   [No, way, back., One, way, out.]   \n",
       "5             [Say, hola, to, his, little, friends.]   \n",
       "\n",
       "                                            keywords  \\\n",
       "0  [based on novel or book, sacrifice, cabin, fai...   \n",
       "1  [pilot, airplane, philippines, held hostage, p...   \n",
       "2  [loss of loved one, hero, sequel, superhero, b...   \n",
       "4  [new york city, martial arts, hitman, sequel, ...   \n",
       "5  [fairy tale, talking dog, spin off, aftercredi...   \n",
       "\n",
       "                        poster_path    rating  \n",
       "0  /dm06L9pxDOL9jNSK4Cb6y139rrG.jpg  5.000000  \n",
       "1  /qi9r5xBgcc9KTxlOLjssEbDgO0J.jpg  4.058892  \n",
       "2  /sv1xJUazXeYqALzczSZ3O6nkH75.jpg  3.949740  \n",
       "4   /vZloFAK7NmvMGKE7VkF5UHaz0I.jpg  3.629797  \n",
       "5  /kuf6dutpsT0vSVehic3EZIqkOBt.jpg  3.426291  "
      ]
     },
     "execution_count": 48,
     "metadata": {},
     "output_type": "execute_result"
    }
   ],
   "source": [
    "movies.head()"
   ]
  },
  {
   "cell_type": "code",
   "execution_count": 49,
   "metadata": {},
   "outputs": [],
   "source": [
    "def remove_space(word):\n",
    "    l=[]\n",
    "    for i in word:\n",
    "        l.append(i.replace(\" \",\"\"))\n",
    "    return l"
   ]
  },
  {
   "cell_type": "code",
   "execution_count": 50,
   "metadata": {},
   "outputs": [
    {
     "name": "stderr",
     "output_type": "stream",
     "text": [
      "C:\\Users\\Admin\\AppData\\Local\\Temp\\ipykernel_5724\\3681893778.py:1: SettingWithCopyWarning: \n",
      "A value is trying to be set on a copy of a slice from a DataFrame.\n",
      "Try using .loc[row_indexer,col_indexer] = value instead\n",
      "\n",
      "See the caveats in the documentation: https://pandas.pydata.org/pandas-docs/stable/user_guide/indexing.html#returning-a-view-versus-a-copy\n",
      "  movies['genres'] = movies['genres'].apply(remove_space)\n",
      "C:\\Users\\Admin\\AppData\\Local\\Temp\\ipykernel_5724\\3681893778.py:2: SettingWithCopyWarning: \n",
      "A value is trying to be set on a copy of a slice from a DataFrame.\n",
      "Try using .loc[row_indexer,col_indexer] = value instead\n",
      "\n",
      "See the caveats in the documentation: https://pandas.pydata.org/pandas-docs/stable/user_guide/indexing.html#returning-a-view-versus-a-copy\n",
      "  movies['production_companies'] = movies['production_companies'].apply(remove_space)\n",
      "C:\\Users\\Admin\\AppData\\Local\\Temp\\ipykernel_5724\\3681893778.py:3: SettingWithCopyWarning: \n",
      "A value is trying to be set on a copy of a slice from a DataFrame.\n",
      "Try using .loc[row_indexer,col_indexer] = value instead\n",
      "\n",
      "See the caveats in the documentation: https://pandas.pydata.org/pandas-docs/stable/user_guide/indexing.html#returning-a-view-versus-a-copy\n",
      "  movies['keywords'] = movies['keywords'].apply(remove_space)\n",
      "C:\\Users\\Admin\\AppData\\Local\\Temp\\ipykernel_5724\\3681893778.py:4: SettingWithCopyWarning: \n",
      "A value is trying to be set on a copy of a slice from a DataFrame.\n",
      "Try using .loc[row_indexer,col_indexer] = value instead\n",
      "\n",
      "See the caveats in the documentation: https://pandas.pydata.org/pandas-docs/stable/user_guide/indexing.html#returning-a-view-versus-a-copy\n",
      "  movies['tagline'] = movies['tagline'].apply(remove_space)\n"
     ]
    }
   ],
   "source": [
    "movies['genres'] = movies['genres'].apply(remove_space)\n",
    "movies['production_companies'] = movies['production_companies'].apply(remove_space)\n",
    "movies['keywords'] = movies['keywords'].apply(remove_space)\n",
    "movies['tagline'] = movies['tagline'].apply(remove_space)"
   ]
  },
  {
   "cell_type": "code",
   "execution_count": 51,
   "metadata": {},
   "outputs": [
    {
     "data": {
      "text/html": [
       "<div>\n",
       "<style scoped>\n",
       "    .dataframe tbody tr th:only-of-type {\n",
       "        vertical-align: middle;\n",
       "    }\n",
       "\n",
       "    .dataframe tbody tr th {\n",
       "        vertical-align: top;\n",
       "    }\n",
       "\n",
       "    .dataframe thead th {\n",
       "        text-align: right;\n",
       "    }\n",
       "</style>\n",
       "<table border=\"1\" class=\"dataframe\">\n",
       "  <thead>\n",
       "    <tr style=\"text-align: right;\">\n",
       "      <th></th>\n",
       "      <th>id</th>\n",
       "      <th>title</th>\n",
       "      <th>popularity</th>\n",
       "      <th>genres</th>\n",
       "      <th>production_companies</th>\n",
       "      <th>tagline</th>\n",
       "      <th>keywords</th>\n",
       "      <th>poster_path</th>\n",
       "      <th>rating</th>\n",
       "    </tr>\n",
       "  </thead>\n",
       "  <tbody>\n",
       "    <tr>\n",
       "      <th>0</th>\n",
       "      <td>631842</td>\n",
       "      <td>Knock at the Cabin</td>\n",
       "      <td>3422.537</td>\n",
       "      <td>[Horror, Mystery, Thriller]</td>\n",
       "      <td>[BlindingEdgePictures, UniversalPictures, Film...</td>\n",
       "      <td>[Save, your, family, or, save, humanity., Make...</td>\n",
       "      <td>[basedonnovelorbook, sacrifice, cabin, faith, ...</td>\n",
       "      <td>/dm06L9pxDOL9jNSK4Cb6y139rrG.jpg</td>\n",
       "      <td>5.000000</td>\n",
       "    </tr>\n",
       "    <tr>\n",
       "      <th>1</th>\n",
       "      <td>646389</td>\n",
       "      <td>Plane</td>\n",
       "      <td>2618.646</td>\n",
       "      <td>[Action, Adventure, Thriller]</td>\n",
       "      <td>[MadRiverPictures, DiBonaventuraPictures, G, B...</td>\n",
       "      <td>[Survive, together, or, die, alone.]</td>\n",
       "      <td>[pilot, airplane, philippines, heldhostage, pl...</td>\n",
       "      <td>/qi9r5xBgcc9KTxlOLjssEbDgO0J.jpg</td>\n",
       "      <td>4.058892</td>\n",
       "    </tr>\n",
       "    <tr>\n",
       "      <th>2</th>\n",
       "      <td>505642</td>\n",
       "      <td>Black Panther: Wakanda Forever</td>\n",
       "      <td>2525.408</td>\n",
       "      <td>[Action, Adventure, ScienceFiction]</td>\n",
       "      <td>[MarvelStudios]</td>\n",
       "      <td>[Forever.]</td>\n",
       "      <td>[lossoflovedone, hero, sequel, superhero, base...</td>\n",
       "      <td>/sv1xJUazXeYqALzczSZ3O6nkH75.jpg</td>\n",
       "      <td>3.949740</td>\n",
       "    </tr>\n",
       "    <tr>\n",
       "      <th>4</th>\n",
       "      <td>603692</td>\n",
       "      <td>John Wick: Chapter 4</td>\n",
       "      <td>2252.114</td>\n",
       "      <td>[Action, Thriller, Crime]</td>\n",
       "      <td>[ThunderRoad, 87Eleven, Lionsgate, SummitEnter...</td>\n",
       "      <td>[No, way, back., One, way, out.]</td>\n",
       "      <td>[newyorkcity, martialarts, hitman, sequel, org...</td>\n",
       "      <td>/vZloFAK7NmvMGKE7VkF5UHaz0I.jpg</td>\n",
       "      <td>3.629797</td>\n",
       "    </tr>\n",
       "    <tr>\n",
       "      <th>5</th>\n",
       "      <td>315162</td>\n",
       "      <td>Puss in Boots: The Last Wish</td>\n",
       "      <td>2078.280</td>\n",
       "      <td>[Animation, Adventure, Comedy, Family]</td>\n",
       "      <td>[DreamWorksAnimation, UniversalPictures]</td>\n",
       "      <td>[Say, hola, to, his, little, friends.]</td>\n",
       "      <td>[fairytale, talkingdog, spinoff, aftercreditss...</td>\n",
       "      <td>/kuf6dutpsT0vSVehic3EZIqkOBt.jpg</td>\n",
       "      <td>3.426291</td>\n",
       "    </tr>\n",
       "  </tbody>\n",
       "</table>\n",
       "</div>"
      ],
      "text/plain": [
       "       id                           title  popularity  \\\n",
       "0  631842              Knock at the Cabin    3422.537   \n",
       "1  646389                           Plane    2618.646   \n",
       "2  505642  Black Panther: Wakanda Forever    2525.408   \n",
       "4  603692            John Wick: Chapter 4    2252.114   \n",
       "5  315162    Puss in Boots: The Last Wish    2078.280   \n",
       "\n",
       "                                   genres  \\\n",
       "0             [Horror, Mystery, Thriller]   \n",
       "1           [Action, Adventure, Thriller]   \n",
       "2     [Action, Adventure, ScienceFiction]   \n",
       "4               [Action, Thriller, Crime]   \n",
       "5  [Animation, Adventure, Comedy, Family]   \n",
       "\n",
       "                                production_companies  \\\n",
       "0  [BlindingEdgePictures, UniversalPictures, Film...   \n",
       "1  [MadRiverPictures, DiBonaventuraPictures, G, B...   \n",
       "2                                    [MarvelStudios]   \n",
       "4  [ThunderRoad, 87Eleven, Lionsgate, SummitEnter...   \n",
       "5           [DreamWorksAnimation, UniversalPictures]   \n",
       "\n",
       "                                             tagline  \\\n",
       "0  [Save, your, family, or, save, humanity., Make...   \n",
       "1               [Survive, together, or, die, alone.]   \n",
       "2                                         [Forever.]   \n",
       "4                   [No, way, back., One, way, out.]   \n",
       "5             [Say, hola, to, his, little, friends.]   \n",
       "\n",
       "                                            keywords  \\\n",
       "0  [basedonnovelorbook, sacrifice, cabin, faith, ...   \n",
       "1  [pilot, airplane, philippines, heldhostage, pl...   \n",
       "2  [lossoflovedone, hero, sequel, superhero, base...   \n",
       "4  [newyorkcity, martialarts, hitman, sequel, org...   \n",
       "5  [fairytale, talkingdog, spinoff, aftercreditss...   \n",
       "\n",
       "                        poster_path    rating  \n",
       "0  /dm06L9pxDOL9jNSK4Cb6y139rrG.jpg  5.000000  \n",
       "1  /qi9r5xBgcc9KTxlOLjssEbDgO0J.jpg  4.058892  \n",
       "2  /sv1xJUazXeYqALzczSZ3O6nkH75.jpg  3.949740  \n",
       "4   /vZloFAK7NmvMGKE7VkF5UHaz0I.jpg  3.629797  \n",
       "5  /kuf6dutpsT0vSVehic3EZIqkOBt.jpg  3.426291  "
      ]
     },
     "execution_count": 51,
     "metadata": {},
     "output_type": "execute_result"
    }
   ],
   "source": [
    "movies.head()"
   ]
  },
  {
   "cell_type": "markdown",
   "metadata": {
    "id": "-bUwXijPxb3U"
   },
   "source": [
    "Selecting the relevant features for recommendation"
   ]
  },
  {
   "cell_type": "code",
   "execution_count": 52,
   "metadata": {
    "colab": {
     "base_uri": "https://localhost:8080/"
    },
    "id": "05pnI8bWuDr3",
    "outputId": "bcad687a-7c00-4d6f-bb72-de313ff9d169"
   },
   "outputs": [],
   "source": [
    "# selected_features = ['genres','production_companies','tagline','keywords']\n",
    "# print(selected_features)"
   ]
  },
  {
   "cell_type": "markdown",
   "metadata": {
    "id": "olF6YZR1xkQ8"
   },
   "source": [
    "Combining all the 5 selected features"
   ]
  },
  {
   "cell_type": "code",
   "execution_count": 53,
   "metadata": {
    "colab": {
     "base_uri": "https://localhost:8080/"
    },
    "id": "cxIqNcXLuSP7",
    "outputId": "49320723-0f10-42c2-9744-986e5349400d"
   },
   "outputs": [
    {
     "name": "stderr",
     "output_type": "stream",
     "text": [
      "C:\\Users\\Admin\\AppData\\Local\\Temp\\ipykernel_5724\\2242962068.py:1: SettingWithCopyWarning: \n",
      "A value is trying to be set on a copy of a slice from a DataFrame.\n",
      "Try using .loc[row_indexer,col_indexer] = value instead\n",
      "\n",
      "See the caveats in the documentation: https://pandas.pydata.org/pandas-docs/stable/user_guide/indexing.html#returning-a-view-versus-a-copy\n",
      "  movies['tags'] = movies['genres']+movies['production_companies']+movies['tagline']+movies['keywords']\n"
     ]
    },
    {
     "data": {
      "text/html": [
       "<div>\n",
       "<style scoped>\n",
       "    .dataframe tbody tr th:only-of-type {\n",
       "        vertical-align: middle;\n",
       "    }\n",
       "\n",
       "    .dataframe tbody tr th {\n",
       "        vertical-align: top;\n",
       "    }\n",
       "\n",
       "    .dataframe thead th {\n",
       "        text-align: right;\n",
       "    }\n",
       "</style>\n",
       "<table border=\"1\" class=\"dataframe\">\n",
       "  <thead>\n",
       "    <tr style=\"text-align: right;\">\n",
       "      <th></th>\n",
       "      <th>id</th>\n",
       "      <th>title</th>\n",
       "      <th>popularity</th>\n",
       "      <th>genres</th>\n",
       "      <th>production_companies</th>\n",
       "      <th>tagline</th>\n",
       "      <th>keywords</th>\n",
       "      <th>poster_path</th>\n",
       "      <th>rating</th>\n",
       "      <th>tags</th>\n",
       "    </tr>\n",
       "  </thead>\n",
       "  <tbody>\n",
       "    <tr>\n",
       "      <th>0</th>\n",
       "      <td>631842</td>\n",
       "      <td>Knock at the Cabin</td>\n",
       "      <td>3422.537</td>\n",
       "      <td>[Horror, Mystery, Thriller]</td>\n",
       "      <td>[BlindingEdgePictures, UniversalPictures, Film...</td>\n",
       "      <td>[Save, your, family, or, save, humanity., Make...</td>\n",
       "      <td>[basedonnovelorbook, sacrifice, cabin, faith, ...</td>\n",
       "      <td>/dm06L9pxDOL9jNSK4Cb6y139rrG.jpg</td>\n",
       "      <td>5.000000</td>\n",
       "      <td>[Horror, Mystery, Thriller, BlindingEdgePictur...</td>\n",
       "    </tr>\n",
       "    <tr>\n",
       "      <th>1</th>\n",
       "      <td>646389</td>\n",
       "      <td>Plane</td>\n",
       "      <td>2618.646</td>\n",
       "      <td>[Action, Adventure, Thriller]</td>\n",
       "      <td>[MadRiverPictures, DiBonaventuraPictures, G, B...</td>\n",
       "      <td>[Survive, together, or, die, alone.]</td>\n",
       "      <td>[pilot, airplane, philippines, heldhostage, pl...</td>\n",
       "      <td>/qi9r5xBgcc9KTxlOLjssEbDgO0J.jpg</td>\n",
       "      <td>4.058892</td>\n",
       "      <td>[Action, Adventure, Thriller, MadRiverPictures...</td>\n",
       "    </tr>\n",
       "    <tr>\n",
       "      <th>2</th>\n",
       "      <td>505642</td>\n",
       "      <td>Black Panther: Wakanda Forever</td>\n",
       "      <td>2525.408</td>\n",
       "      <td>[Action, Adventure, ScienceFiction]</td>\n",
       "      <td>[MarvelStudios]</td>\n",
       "      <td>[Forever.]</td>\n",
       "      <td>[lossoflovedone, hero, sequel, superhero, base...</td>\n",
       "      <td>/sv1xJUazXeYqALzczSZ3O6nkH75.jpg</td>\n",
       "      <td>3.949740</td>\n",
       "      <td>[Action, Adventure, ScienceFiction, MarvelStud...</td>\n",
       "    </tr>\n",
       "    <tr>\n",
       "      <th>4</th>\n",
       "      <td>603692</td>\n",
       "      <td>John Wick: Chapter 4</td>\n",
       "      <td>2252.114</td>\n",
       "      <td>[Action, Thriller, Crime]</td>\n",
       "      <td>[ThunderRoad, 87Eleven, Lionsgate, SummitEnter...</td>\n",
       "      <td>[No, way, back., One, way, out.]</td>\n",
       "      <td>[newyorkcity, martialarts, hitman, sequel, org...</td>\n",
       "      <td>/vZloFAK7NmvMGKE7VkF5UHaz0I.jpg</td>\n",
       "      <td>3.629797</td>\n",
       "      <td>[Action, Thriller, Crime, ThunderRoad, 87Eleve...</td>\n",
       "    </tr>\n",
       "    <tr>\n",
       "      <th>5</th>\n",
       "      <td>315162</td>\n",
       "      <td>Puss in Boots: The Last Wish</td>\n",
       "      <td>2078.280</td>\n",
       "      <td>[Animation, Adventure, Comedy, Family]</td>\n",
       "      <td>[DreamWorksAnimation, UniversalPictures]</td>\n",
       "      <td>[Say, hola, to, his, little, friends.]</td>\n",
       "      <td>[fairytale, talkingdog, spinoff, aftercreditss...</td>\n",
       "      <td>/kuf6dutpsT0vSVehic3EZIqkOBt.jpg</td>\n",
       "      <td>3.426291</td>\n",
       "      <td>[Animation, Adventure, Comedy, Family, DreamWo...</td>\n",
       "    </tr>\n",
       "  </tbody>\n",
       "</table>\n",
       "</div>"
      ],
      "text/plain": [
       "       id                           title  popularity  \\\n",
       "0  631842              Knock at the Cabin    3422.537   \n",
       "1  646389                           Plane    2618.646   \n",
       "2  505642  Black Panther: Wakanda Forever    2525.408   \n",
       "4  603692            John Wick: Chapter 4    2252.114   \n",
       "5  315162    Puss in Boots: The Last Wish    2078.280   \n",
       "\n",
       "                                   genres  \\\n",
       "0             [Horror, Mystery, Thriller]   \n",
       "1           [Action, Adventure, Thriller]   \n",
       "2     [Action, Adventure, ScienceFiction]   \n",
       "4               [Action, Thriller, Crime]   \n",
       "5  [Animation, Adventure, Comedy, Family]   \n",
       "\n",
       "                                production_companies  \\\n",
       "0  [BlindingEdgePictures, UniversalPictures, Film...   \n",
       "1  [MadRiverPictures, DiBonaventuraPictures, G, B...   \n",
       "2                                    [MarvelStudios]   \n",
       "4  [ThunderRoad, 87Eleven, Lionsgate, SummitEnter...   \n",
       "5           [DreamWorksAnimation, UniversalPictures]   \n",
       "\n",
       "                                             tagline  \\\n",
       "0  [Save, your, family, or, save, humanity., Make...   \n",
       "1               [Survive, together, or, die, alone.]   \n",
       "2                                         [Forever.]   \n",
       "4                   [No, way, back., One, way, out.]   \n",
       "5             [Say, hola, to, his, little, friends.]   \n",
       "\n",
       "                                            keywords  \\\n",
       "0  [basedonnovelorbook, sacrifice, cabin, faith, ...   \n",
       "1  [pilot, airplane, philippines, heldhostage, pl...   \n",
       "2  [lossoflovedone, hero, sequel, superhero, base...   \n",
       "4  [newyorkcity, martialarts, hitman, sequel, org...   \n",
       "5  [fairytale, talkingdog, spinoff, aftercreditss...   \n",
       "\n",
       "                        poster_path    rating  \\\n",
       "0  /dm06L9pxDOL9jNSK4Cb6y139rrG.jpg  5.000000   \n",
       "1  /qi9r5xBgcc9KTxlOLjssEbDgO0J.jpg  4.058892   \n",
       "2  /sv1xJUazXeYqALzczSZ3O6nkH75.jpg  3.949740   \n",
       "4   /vZloFAK7NmvMGKE7VkF5UHaz0I.jpg  3.629797   \n",
       "5  /kuf6dutpsT0vSVehic3EZIqkOBt.jpg  3.426291   \n",
       "\n",
       "                                                tags  \n",
       "0  [Horror, Mystery, Thriller, BlindingEdgePictur...  \n",
       "1  [Action, Adventure, Thriller, MadRiverPictures...  \n",
       "2  [Action, Adventure, ScienceFiction, MarvelStud...  \n",
       "4  [Action, Thriller, Crime, ThunderRoad, 87Eleve...  \n",
       "5  [Animation, Adventure, Comedy, Family, DreamWo...  "
      ]
     },
     "execution_count": 53,
     "metadata": {},
     "output_type": "execute_result"
    }
   ],
   "source": [
    "movies['tags'] = movies['genres']+movies['production_companies']+movies['tagline']+movies['keywords']\n",
    "movies.head()"
   ]
  },
  {
   "cell_type": "code",
   "execution_count": 54,
   "metadata": {},
   "outputs": [
    {
     "data": {
      "text/plain": [
       "['Horror',\n",
       " 'Mystery',\n",
       " 'Thriller',\n",
       " 'BlindingEdgePictures',\n",
       " 'UniversalPictures',\n",
       " 'FilmNationEntertainment',\n",
       " 'Wishmore',\n",
       " 'PerfectWorldPictures',\n",
       " 'Save',\n",
       " 'your',\n",
       " 'family',\n",
       " 'or',\n",
       " 'save',\n",
       " 'humanity.',\n",
       " 'Make',\n",
       " 'the',\n",
       " 'choice.',\n",
       " 'basedonnovelorbook',\n",
       " 'sacrifice',\n",
       " 'cabin',\n",
       " 'faith',\n",
       " 'endoftheworld',\n",
       " 'apocalypse',\n",
       " 'homeinvasion',\n",
       " 'lgbt',\n",
       " 'aftercreditsstinger',\n",
       " 'adoptedchild',\n",
       " 'adopteddaughter',\n",
       " 'shotonfilm',\n",
       " 'gay',\n",
       " 'samesexrelationship',\n",
       " 'religioussymbolism']"
      ]
     },
     "execution_count": 54,
     "metadata": {},
     "output_type": "execute_result"
    }
   ],
   "source": [
    "movies.iloc[0]['tags']"
   ]
  },
  {
   "cell_type": "code",
   "execution_count": 55,
   "metadata": {},
   "outputs": [
    {
     "data": {
      "text/html": [
       "<div>\n",
       "<style scoped>\n",
       "    .dataframe tbody tr th:only-of-type {\n",
       "        vertical-align: middle;\n",
       "    }\n",
       "\n",
       "    .dataframe tbody tr th {\n",
       "        vertical-align: top;\n",
       "    }\n",
       "\n",
       "    .dataframe thead th {\n",
       "        text-align: right;\n",
       "    }\n",
       "</style>\n",
       "<table border=\"1\" class=\"dataframe\">\n",
       "  <thead>\n",
       "    <tr style=\"text-align: right;\">\n",
       "      <th></th>\n",
       "      <th>id</th>\n",
       "      <th>title</th>\n",
       "      <th>tags</th>\n",
       "      <th>rating</th>\n",
       "    </tr>\n",
       "  </thead>\n",
       "  <tbody>\n",
       "    <tr>\n",
       "      <th>0</th>\n",
       "      <td>631842</td>\n",
       "      <td>Knock at the Cabin</td>\n",
       "      <td>[Horror, Mystery, Thriller, BlindingEdgePictur...</td>\n",
       "      <td>5.000000</td>\n",
       "    </tr>\n",
       "    <tr>\n",
       "      <th>1</th>\n",
       "      <td>646389</td>\n",
       "      <td>Plane</td>\n",
       "      <td>[Action, Adventure, Thriller, MadRiverPictures...</td>\n",
       "      <td>4.058892</td>\n",
       "    </tr>\n",
       "    <tr>\n",
       "      <th>2</th>\n",
       "      <td>505642</td>\n",
       "      <td>Black Panther: Wakanda Forever</td>\n",
       "      <td>[Action, Adventure, ScienceFiction, MarvelStud...</td>\n",
       "      <td>3.949740</td>\n",
       "    </tr>\n",
       "    <tr>\n",
       "      <th>4</th>\n",
       "      <td>603692</td>\n",
       "      <td>John Wick: Chapter 4</td>\n",
       "      <td>[Action, Thriller, Crime, ThunderRoad, 87Eleve...</td>\n",
       "      <td>3.629797</td>\n",
       "    </tr>\n",
       "    <tr>\n",
       "      <th>5</th>\n",
       "      <td>315162</td>\n",
       "      <td>Puss in Boots: The Last Wish</td>\n",
       "      <td>[Animation, Adventure, Comedy, Family, DreamWo...</td>\n",
       "      <td>3.426291</td>\n",
       "    </tr>\n",
       "  </tbody>\n",
       "</table>\n",
       "</div>"
      ],
      "text/plain": [
       "       id                           title  \\\n",
       "0  631842              Knock at the Cabin   \n",
       "1  646389                           Plane   \n",
       "2  505642  Black Panther: Wakanda Forever   \n",
       "4  603692            John Wick: Chapter 4   \n",
       "5  315162    Puss in Boots: The Last Wish   \n",
       "\n",
       "                                                tags    rating  \n",
       "0  [Horror, Mystery, Thriller, BlindingEdgePictur...  5.000000  \n",
       "1  [Action, Adventure, Thriller, MadRiverPictures...  4.058892  \n",
       "2  [Action, Adventure, ScienceFiction, MarvelStud...  3.949740  \n",
       "4  [Action, Thriller, Crime, ThunderRoad, 87Eleve...  3.629797  \n",
       "5  [Animation, Adventure, Comedy, Family, DreamWo...  3.426291  "
      ]
     },
     "execution_count": 55,
     "metadata": {},
     "output_type": "execute_result"
    }
   ],
   "source": [
    "new_df=movies[['id','title','tags','rating']]\n",
    "new_df.head()"
   ]
  },
  {
   "cell_type": "code",
   "execution_count": 56,
   "metadata": {},
   "outputs": [
    {
     "name": "stderr",
     "output_type": "stream",
     "text": [
      "C:\\Users\\Admin\\AppData\\Local\\Temp\\ipykernel_5724\\3662197046.py:1: SettingWithCopyWarning: \n",
      "A value is trying to be set on a copy of a slice from a DataFrame.\n",
      "Try using .loc[row_indexer,col_indexer] = value instead\n",
      "\n",
      "See the caveats in the documentation: https://pandas.pydata.org/pandas-docs/stable/user_guide/indexing.html#returning-a-view-versus-a-copy\n",
      "  new_df['tags']=new_df['tags'].apply(lambda x:\" \".join(x))\n"
     ]
    },
    {
     "data": {
      "text/html": [
       "<div>\n",
       "<style scoped>\n",
       "    .dataframe tbody tr th:only-of-type {\n",
       "        vertical-align: middle;\n",
       "    }\n",
       "\n",
       "    .dataframe tbody tr th {\n",
       "        vertical-align: top;\n",
       "    }\n",
       "\n",
       "    .dataframe thead th {\n",
       "        text-align: right;\n",
       "    }\n",
       "</style>\n",
       "<table border=\"1\" class=\"dataframe\">\n",
       "  <thead>\n",
       "    <tr style=\"text-align: right;\">\n",
       "      <th></th>\n",
       "      <th>id</th>\n",
       "      <th>title</th>\n",
       "      <th>tags</th>\n",
       "      <th>rating</th>\n",
       "    </tr>\n",
       "  </thead>\n",
       "  <tbody>\n",
       "    <tr>\n",
       "      <th>0</th>\n",
       "      <td>631842</td>\n",
       "      <td>Knock at the Cabin</td>\n",
       "      <td>Horror Mystery Thriller BlindingEdgePictures U...</td>\n",
       "      <td>5.000000</td>\n",
       "    </tr>\n",
       "    <tr>\n",
       "      <th>1</th>\n",
       "      <td>646389</td>\n",
       "      <td>Plane</td>\n",
       "      <td>Action Adventure Thriller MadRiverPictures DiB...</td>\n",
       "      <td>4.058892</td>\n",
       "    </tr>\n",
       "    <tr>\n",
       "      <th>2</th>\n",
       "      <td>505642</td>\n",
       "      <td>Black Panther: Wakanda Forever</td>\n",
       "      <td>Action Adventure ScienceFiction MarvelStudios ...</td>\n",
       "      <td>3.949740</td>\n",
       "    </tr>\n",
       "    <tr>\n",
       "      <th>4</th>\n",
       "      <td>603692</td>\n",
       "      <td>John Wick: Chapter 4</td>\n",
       "      <td>Action Thriller Crime ThunderRoad 87Eleven Lio...</td>\n",
       "      <td>3.629797</td>\n",
       "    </tr>\n",
       "    <tr>\n",
       "      <th>5</th>\n",
       "      <td>315162</td>\n",
       "      <td>Puss in Boots: The Last Wish</td>\n",
       "      <td>Animation Adventure Comedy Family DreamWorksAn...</td>\n",
       "      <td>3.426291</td>\n",
       "    </tr>\n",
       "  </tbody>\n",
       "</table>\n",
       "</div>"
      ],
      "text/plain": [
       "       id                           title  \\\n",
       "0  631842              Knock at the Cabin   \n",
       "1  646389                           Plane   \n",
       "2  505642  Black Panther: Wakanda Forever   \n",
       "4  603692            John Wick: Chapter 4   \n",
       "5  315162    Puss in Boots: The Last Wish   \n",
       "\n",
       "                                                tags    rating  \n",
       "0  Horror Mystery Thriller BlindingEdgePictures U...  5.000000  \n",
       "1  Action Adventure Thriller MadRiverPictures DiB...  4.058892  \n",
       "2  Action Adventure ScienceFiction MarvelStudios ...  3.949740  \n",
       "4  Action Thriller Crime ThunderRoad 87Eleven Lio...  3.629797  \n",
       "5  Animation Adventure Comedy Family DreamWorksAn...  3.426291  "
      ]
     },
     "execution_count": 56,
     "metadata": {},
     "output_type": "execute_result"
    }
   ],
   "source": [
    "new_df['tags']=new_df['tags'].apply(lambda x:\" \".join(x))\n",
    "new_df.head()"
   ]
  },
  {
   "cell_type": "code",
   "execution_count": 57,
   "metadata": {},
   "outputs": [
    {
     "data": {
      "text/plain": [
       "'Horror Mystery Thriller BlindingEdgePictures UniversalPictures FilmNationEntertainment Wishmore PerfectWorldPictures Save your family or save humanity. Make the choice. basedonnovelorbook sacrifice cabin faith endoftheworld apocalypse homeinvasion lgbt aftercreditsstinger adoptedchild adopteddaughter shotonfilm gay samesexrelationship religioussymbolism'"
      ]
     },
     "execution_count": 57,
     "metadata": {},
     "output_type": "execute_result"
    }
   ],
   "source": [
    "new_df.iloc[0]['tags']"
   ]
  },
  {
   "cell_type": "code",
   "execution_count": 58,
   "metadata": {},
   "outputs": [
    {
     "name": "stderr",
     "output_type": "stream",
     "text": [
      "C:\\Users\\Admin\\AppData\\Local\\Temp\\ipykernel_5724\\1783511216.py:2: SettingWithCopyWarning: \n",
      "A value is trying to be set on a copy of a slice from a DataFrame.\n",
      "Try using .loc[row_indexer,col_indexer] = value instead\n",
      "\n",
      "See the caveats in the documentation: https://pandas.pydata.org/pandas-docs/stable/user_guide/indexing.html#returning-a-view-versus-a-copy\n",
      "  new_df['tags'] = new_df['tags'].apply(lambda x:x.lower())\n"
     ]
    },
    {
     "data": {
      "text/html": [
       "<div>\n",
       "<style scoped>\n",
       "    .dataframe tbody tr th:only-of-type {\n",
       "        vertical-align: middle;\n",
       "    }\n",
       "\n",
       "    .dataframe tbody tr th {\n",
       "        vertical-align: top;\n",
       "    }\n",
       "\n",
       "    .dataframe thead th {\n",
       "        text-align: right;\n",
       "    }\n",
       "</style>\n",
       "<table border=\"1\" class=\"dataframe\">\n",
       "  <thead>\n",
       "    <tr style=\"text-align: right;\">\n",
       "      <th></th>\n",
       "      <th>id</th>\n",
       "      <th>title</th>\n",
       "      <th>tags</th>\n",
       "      <th>rating</th>\n",
       "    </tr>\n",
       "  </thead>\n",
       "  <tbody>\n",
       "    <tr>\n",
       "      <th>0</th>\n",
       "      <td>631842</td>\n",
       "      <td>Knock at the Cabin</td>\n",
       "      <td>horror mystery thriller blindingedgepictures u...</td>\n",
       "      <td>5.000000</td>\n",
       "    </tr>\n",
       "    <tr>\n",
       "      <th>1</th>\n",
       "      <td>646389</td>\n",
       "      <td>Plane</td>\n",
       "      <td>action adventure thriller madriverpictures dib...</td>\n",
       "      <td>4.058892</td>\n",
       "    </tr>\n",
       "    <tr>\n",
       "      <th>2</th>\n",
       "      <td>505642</td>\n",
       "      <td>Black Panther: Wakanda Forever</td>\n",
       "      <td>action adventure sciencefiction marvelstudios ...</td>\n",
       "      <td>3.949740</td>\n",
       "    </tr>\n",
       "    <tr>\n",
       "      <th>4</th>\n",
       "      <td>603692</td>\n",
       "      <td>John Wick: Chapter 4</td>\n",
       "      <td>action thriller crime thunderroad 87eleven lio...</td>\n",
       "      <td>3.629797</td>\n",
       "    </tr>\n",
       "    <tr>\n",
       "      <th>5</th>\n",
       "      <td>315162</td>\n",
       "      <td>Puss in Boots: The Last Wish</td>\n",
       "      <td>animation adventure comedy family dreamworksan...</td>\n",
       "      <td>3.426291</td>\n",
       "    </tr>\n",
       "  </tbody>\n",
       "</table>\n",
       "</div>"
      ],
      "text/plain": [
       "       id                           title  \\\n",
       "0  631842              Knock at the Cabin   \n",
       "1  646389                           Plane   \n",
       "2  505642  Black Panther: Wakanda Forever   \n",
       "4  603692            John Wick: Chapter 4   \n",
       "5  315162    Puss in Boots: The Last Wish   \n",
       "\n",
       "                                                tags    rating  \n",
       "0  horror mystery thriller blindingedgepictures u...  5.000000  \n",
       "1  action adventure thriller madriverpictures dib...  4.058892  \n",
       "2  action adventure sciencefiction marvelstudios ...  3.949740  \n",
       "4  action thriller crime thunderroad 87eleven lio...  3.629797  \n",
       "5  animation adventure comedy family dreamworksan...  3.426291  "
      ]
     },
     "execution_count": 58,
     "metadata": {},
     "output_type": "execute_result"
    }
   ],
   "source": [
    "# Converting to lower case\n",
    "new_df['tags'] = new_df['tags'].apply(lambda x:x.lower())\n",
    "new_df.head()"
   ]
  },
  {
   "cell_type": "code",
   "execution_count": 59,
   "metadata": {},
   "outputs": [
    {
     "data": {
      "text/plain": [
       "(15725, 4)"
      ]
     },
     "execution_count": 59,
     "metadata": {},
     "output_type": "execute_result"
    }
   ],
   "source": [
    "new_df.shape"
   ]
  },
  {
   "cell_type": "code",
   "execution_count": 63,
   "metadata": {},
   "outputs": [
    {
     "name": "stdout",
     "output_type": "stream",
     "text": [
      "Requirement already satisfied: nltk in c:\\users\\admin\\appdata\\local\\programs\\python\\python311\\lib\\site-packages (3.8.1)\n",
      "Requirement already satisfied: click in c:\\users\\admin\\appdata\\local\\programs\\python\\python311\\lib\\site-packages (from nltk) (8.1.3)\n",
      "Requirement already satisfied: joblib in c:\\users\\admin\\appdata\\local\\programs\\python\\python311\\lib\\site-packages (from nltk) (1.2.0)\n",
      "Requirement already satisfied: regex>=2021.8.3 in c:\\users\\admin\\appdata\\local\\programs\\python\\python311\\lib\\site-packages (from nltk) (2023.3.23)\n",
      "Requirement already satisfied: tqdm in c:\\users\\admin\\appdata\\local\\programs\\python\\python311\\lib\\site-packages (from nltk) (4.65.0)\n",
      "Requirement already satisfied: colorama in c:\\users\\admin\\appdata\\local\\programs\\python\\python311\\lib\\site-packages (from click->nltk) (0.4.6)\n",
      "Note: you may need to restart the kernel to use updated packages.\n"
     ]
    },
    {
     "name": "stderr",
     "output_type": "stream",
     "text": [
      "\n",
      "[notice] A new release of pip available: 22.3.1 -> 23.0.1\n",
      "[notice] To update, run: python.exe -m pip install --upgrade pip\n"
     ]
    }
   ],
   "source": [
    "pip install nltk"
   ]
  },
  {
   "cell_type": "code",
   "execution_count": 64,
   "metadata": {},
   "outputs": [],
   "source": [
    "import nltk\n",
    "from nltk.stem import PorterStemmer \n",
    "ps=PorterStemmer()"
   ]
  },
  {
   "cell_type": "code",
   "execution_count": 65,
   "metadata": {},
   "outputs": [],
   "source": [
    "def stems(text):\n",
    "    l = []\n",
    "    for i in text.split():\n",
    "        l.append(ps.stem(i))\n",
    "    \n",
    "    return \" \".join(l)"
   ]
  },
  {
   "cell_type": "code",
   "execution_count": 66,
   "metadata": {},
   "outputs": [
    {
     "name": "stderr",
     "output_type": "stream",
     "text": [
      "C:\\Users\\Admin\\AppData\\Local\\Temp\\ipykernel_5724\\1522715013.py:1: SettingWithCopyWarning: \n",
      "A value is trying to be set on a copy of a slice from a DataFrame.\n",
      "Try using .loc[row_indexer,col_indexer] = value instead\n",
      "\n",
      "See the caveats in the documentation: https://pandas.pydata.org/pandas-docs/stable/user_guide/indexing.html#returning-a-view-versus-a-copy\n",
      "  new_df['tags']=new_df['tags'].apply(stems)\n"
     ]
    }
   ],
   "source": [
    "new_df['tags']=new_df['tags'].apply(stems)"
   ]
  },
  {
   "cell_type": "code",
   "execution_count": 67,
   "metadata": {},
   "outputs": [
    {
     "data": {
      "text/plain": [
       "'horror mysteri thriller blindingedgepictur universalpictur filmnationentertain wishmor perfectworldpictur save your famili or save humanity. make the choice. basedonnovelorbook sacrific cabin faith endoftheworld apocalyps homeinvas lgbt aftercreditssting adoptedchild adopteddaught shotonfilm gay samesexrelationship religioussymbol'"
      ]
     },
     "execution_count": 67,
     "metadata": {},
     "output_type": "execute_result"
    }
   ],
   "source": [
    "new_df.iloc[0]['tags']"
   ]
  },
  {
   "cell_type": "code",
   "execution_count": 73,
   "metadata": {},
   "outputs": [
    {
     "data": {
      "text/html": [
       "<div>\n",
       "<style scoped>\n",
       "    .dataframe tbody tr th:only-of-type {\n",
       "        vertical-align: middle;\n",
       "    }\n",
       "\n",
       "    .dataframe tbody tr th {\n",
       "        vertical-align: top;\n",
       "    }\n",
       "\n",
       "    .dataframe thead th {\n",
       "        text-align: right;\n",
       "    }\n",
       "</style>\n",
       "<table border=\"1\" class=\"dataframe\">\n",
       "  <thead>\n",
       "    <tr style=\"text-align: right;\">\n",
       "      <th></th>\n",
       "      <th>id</th>\n",
       "      <th>title</th>\n",
       "      <th>tags</th>\n",
       "      <th>rating</th>\n",
       "    </tr>\n",
       "  </thead>\n",
       "  <tbody>\n",
       "    <tr>\n",
       "      <th>0</th>\n",
       "      <td>631842</td>\n",
       "      <td>Knock at the Cabin</td>\n",
       "      <td>horror mysteri thriller blindingedgepictur uni...</td>\n",
       "      <td>5.000000</td>\n",
       "    </tr>\n",
       "    <tr>\n",
       "      <th>1</th>\n",
       "      <td>646389</td>\n",
       "      <td>Plane</td>\n",
       "      <td>action adventur thriller madriverpictur dibona...</td>\n",
       "      <td>4.058892</td>\n",
       "    </tr>\n",
       "    <tr>\n",
       "      <th>2</th>\n",
       "      <td>505642</td>\n",
       "      <td>Black Panther: Wakanda Forever</td>\n",
       "      <td>action adventur sciencefict marvelstudio forev...</td>\n",
       "      <td>3.949740</td>\n",
       "    </tr>\n",
       "    <tr>\n",
       "      <th>4</th>\n",
       "      <td>603692</td>\n",
       "      <td>John Wick: Chapter 4</td>\n",
       "      <td>action thriller crime thunderroad 87eleven lio...</td>\n",
       "      <td>3.629797</td>\n",
       "    </tr>\n",
       "    <tr>\n",
       "      <th>5</th>\n",
       "      <td>315162</td>\n",
       "      <td>Puss in Boots: The Last Wish</td>\n",
       "      <td>anim adventur comedi famili dreamworksanim uni...</td>\n",
       "      <td>3.426291</td>\n",
       "    </tr>\n",
       "  </tbody>\n",
       "</table>\n",
       "</div>"
      ],
      "text/plain": [
       "       id                           title  \\\n",
       "0  631842              Knock at the Cabin   \n",
       "1  646389                           Plane   \n",
       "2  505642  Black Panther: Wakanda Forever   \n",
       "4  603692            John Wick: Chapter 4   \n",
       "5  315162    Puss in Boots: The Last Wish   \n",
       "\n",
       "                                                tags    rating  \n",
       "0  horror mysteri thriller blindingedgepictur uni...  5.000000  \n",
       "1  action adventur thriller madriverpictur dibona...  4.058892  \n",
       "2  action adventur sciencefict marvelstudio forev...  3.949740  \n",
       "4  action thriller crime thunderroad 87eleven lio...  3.629797  \n",
       "5  anim adventur comedi famili dreamworksanim uni...  3.426291  "
      ]
     },
     "execution_count": 73,
     "metadata": {},
     "output_type": "execute_result"
    }
   ],
   "source": [
    "new_df.head()"
   ]
  },
  {
   "cell_type": "code",
   "execution_count": 74,
   "metadata": {},
   "outputs": [
    {
     "name": "stderr",
     "output_type": "stream",
     "text": [
      "C:\\Users\\Admin\\AppData\\Local\\Temp\\ipykernel_5724\\1182637651.py:1: SettingWithCopyWarning: \n",
      "A value is trying to be set on a copy of a slice from a DataFrame.\n",
      "Try using .loc[row_indexer,col_indexer] = value instead\n",
      "\n",
      "See the caveats in the documentation: https://pandas.pydata.org/pandas-docs/stable/user_guide/indexing.html#returning-a-view-versus-a-copy\n",
      "  new_df['index_sak'] = range(len(new_df))\n"
     ]
    },
    {
     "data": {
      "text/html": [
       "<div>\n",
       "<style scoped>\n",
       "    .dataframe tbody tr th:only-of-type {\n",
       "        vertical-align: middle;\n",
       "    }\n",
       "\n",
       "    .dataframe tbody tr th {\n",
       "        vertical-align: top;\n",
       "    }\n",
       "\n",
       "    .dataframe thead th {\n",
       "        text-align: right;\n",
       "    }\n",
       "</style>\n",
       "<table border=\"1\" class=\"dataframe\">\n",
       "  <thead>\n",
       "    <tr style=\"text-align: right;\">\n",
       "      <th></th>\n",
       "      <th>id</th>\n",
       "      <th>title</th>\n",
       "      <th>tags</th>\n",
       "      <th>rating</th>\n",
       "    </tr>\n",
       "    <tr>\n",
       "      <th>index_sak</th>\n",
       "      <th></th>\n",
       "      <th></th>\n",
       "      <th></th>\n",
       "      <th></th>\n",
       "    </tr>\n",
       "  </thead>\n",
       "  <tbody>\n",
       "    <tr>\n",
       "      <th>0</th>\n",
       "      <td>631842</td>\n",
       "      <td>Knock at the Cabin</td>\n",
       "      <td>horror mysteri thriller blindingedgepictur uni...</td>\n",
       "      <td>5.000000</td>\n",
       "    </tr>\n",
       "    <tr>\n",
       "      <th>1</th>\n",
       "      <td>646389</td>\n",
       "      <td>Plane</td>\n",
       "      <td>action adventur thriller madriverpictur dibona...</td>\n",
       "      <td>4.058892</td>\n",
       "    </tr>\n",
       "    <tr>\n",
       "      <th>2</th>\n",
       "      <td>505642</td>\n",
       "      <td>Black Panther: Wakanda Forever</td>\n",
       "      <td>action adventur sciencefict marvelstudio forev...</td>\n",
       "      <td>3.949740</td>\n",
       "    </tr>\n",
       "    <tr>\n",
       "      <th>3</th>\n",
       "      <td>603692</td>\n",
       "      <td>John Wick: Chapter 4</td>\n",
       "      <td>action thriller crime thunderroad 87eleven lio...</td>\n",
       "      <td>3.629797</td>\n",
       "    </tr>\n",
       "    <tr>\n",
       "      <th>4</th>\n",
       "      <td>315162</td>\n",
       "      <td>Puss in Boots: The Last Wish</td>\n",
       "      <td>anim adventur comedi famili dreamworksanim uni...</td>\n",
       "      <td>3.426291</td>\n",
       "    </tr>\n",
       "  </tbody>\n",
       "</table>\n",
       "</div>"
      ],
      "text/plain": [
       "               id                           title  \\\n",
       "index_sak                                           \n",
       "0          631842              Knock at the Cabin   \n",
       "1          646389                           Plane   \n",
       "2          505642  Black Panther: Wakanda Forever   \n",
       "3          603692            John Wick: Chapter 4   \n",
       "4          315162    Puss in Boots: The Last Wish   \n",
       "\n",
       "                                                        tags    rating  \n",
       "index_sak                                                               \n",
       "0          horror mysteri thriller blindingedgepictur uni...  5.000000  \n",
       "1          action adventur thriller madriverpictur dibona...  4.058892  \n",
       "2          action adventur sciencefict marvelstudio forev...  3.949740  \n",
       "3          action thriller crime thunderroad 87eleven lio...  3.629797  \n",
       "4          anim adventur comedi famili dreamworksanim uni...  3.426291  "
      ]
     },
     "execution_count": 74,
     "metadata": {},
     "output_type": "execute_result"
    }
   ],
   "source": [
    "new_df['index_sak'] = range(len(new_df))\n",
    "new_df.set_index('index_sak', inplace=True)\n",
    "new_df.head()"
   ]
  },
  {
   "cell_type": "code",
   "execution_count": 75,
   "metadata": {},
   "outputs": [],
   "source": [
    "import pickle\n",
    "pickle.dump(new_df,open('artifacts/new_df.pkl','wb'))"
   ]
  },
  {
   "cell_type": "markdown",
   "metadata": {
    "id": "3ppei4nkxsR2"
   },
   "source": [
    "Converting the text data to feature vectors"
   ]
  },
  {
   "cell_type": "code",
   "execution_count": 76,
   "metadata": {
    "colab": {
     "base_uri": "https://localhost:8080/"
    },
    "id": "0HYa631OuVsJ",
    "outputId": "4fd9e88d-f8f4-4c35-a9a8-7e965a6b9ab9"
   },
   "outputs": [
    {
     "name": "stdout",
     "output_type": "stream",
     "text": [
      "  (0, 28447)\t0.2667046951196344\n",
      "  (0, 29696)\t0.2667046951196344\n",
      "  (0, 14177)\t0.14898448515009652\n",
      "  (0, 31061)\t0.19516873992170547\n",
      "  (0, 808)\t0.2558581276282688\n",
      "  (0, 807)\t0.22646923053800802\n",
      "  (0, 927)\t0.1343207807552184\n",
      "  (0, 19918)\t0.14157747910563917\n",
      "  (0, 16374)\t0.18006704440256857\n",
      "  (0, 1958)\t0.17484235423481073\n",
      "  (0, 11153)\t0.18656607988150797\n",
      "  (0, 12023)\t0.16802375028261282\n",
      "  (0, 5344)\t0.18526089776350096\n",
      "  (0, 29556)\t0.18938457134021772\n",
      "  (0, 3264)\t0.0923904900926145\n",
      "  (0, 6542)\t0.20380322736239612\n",
      "  (0, 34424)\t0.05319964352659233\n",
      "  (0, 21040)\t0.13942669319728537\n",
      "  (0, 16720)\t0.2187734684304785\n",
      "  (0, 24890)\t0.13841285252441018\n",
      "  (0, 12101)\t0.0850632999288809\n",
      "  (0, 38599)\t0.10679784210999385\n",
      "  (0, 29885)\t0.29764174081577865\n",
      "  (0, 25899)\t0.19253537672405382\n",
      "  (0, 38102)\t0.23731579802937366\n",
      "  :\t:\n",
      "  (15723, 10209)\t0.1022712878728429\n",
      "  (15723, 35089)\t0.16326812994358697\n",
      "  (15723, 723)\t0.13990313009123256\n",
      "  (15724, 30900)\t0.3153970425171673\n",
      "  (15724, 16947)\t0.3251778189194927\n",
      "  (15724, 7835)\t0.29637091118281056\n",
      "  (15724, 17493)\t0.27532446908062286\n",
      "  (15724, 33614)\t0.24689323987024658\n",
      "  (15724, 27169)\t0.26242236814236974\n",
      "  (15724, 15199)\t0.29183103602541616\n",
      "  (15724, 12637)\t0.18771989498001593\n",
      "  (15724, 14190)\t0.20992187942766552\n",
      "  (15724, 18877)\t0.18009359424346294\n",
      "  (15724, 31982)\t0.16906502419252945\n",
      "  (15724, 15981)\t0.1967793633872062\n",
      "  (15724, 30296)\t0.1825643101178713\n",
      "  (15724, 33342)\t0.1815543776224505\n",
      "  (15724, 26666)\t0.2354536681098825\n",
      "  (15724, 10209)\t0.06215451250979378\n",
      "  (15724, 8276)\t0.09969930393346194\n",
      "  (15724, 14177)\t0.18934888011194556\n",
      "  (15724, 19918)\t0.17993509250790454\n",
      "  (15724, 3264)\t0.11742186318532258\n",
      "  (15724, 34889)\t0.07903053125532028\n",
      "  (15724, 23355)\t0.11539623330459144\n"
     ]
    }
   ],
   "source": [
    "vectorizer = TfidfVectorizer()\n",
    "feature_vectors = vectorizer.fit_transform(new_df['tags'])\n",
    "print(feature_vectors)"
   ]
  },
  {
   "cell_type": "markdown",
   "metadata": {
    "id": "NGHd5BS5yJif"
   },
   "source": [
    "Getting the similarity scores using cosine similarity"
   ]
  },
  {
   "cell_type": "code",
   "execution_count": 77,
   "metadata": {
    "colab": {
     "base_uri": "https://localhost:8080/"
    },
    "id": "XVQZjSsiuc56",
    "outputId": "e7bdd281-9beb-49d9-bbdc-75e6e5f21d45"
   },
   "outputs": [
    {
     "name": "stdout",
     "output_type": "stream",
     "text": [
      "[[1.         0.03034701 0.         ... 0.00519711 0.         0.07992543]\n",
      " [0.03034701 1.         0.020213   ... 0.         0.0123359  0.00647719]\n",
      " [0.         0.020213   1.         ... 0.         0.01342155 0.        ]\n",
      " ...\n",
      " [0.00519711 0.         0.         ... 1.         0.02239548 0.        ]\n",
      " [0.         0.0123359  0.01342155 ... 0.02239548 1.         0.00635662]\n",
      " [0.07992543 0.00647719 0.         ... 0.         0.00635662 1.        ]]\n"
     ]
    }
   ],
   "source": [
    "from sklearn.metrics.pairwise import cosine_similarity \n",
    "similarity = cosine_similarity(feature_vectors)\n",
    "print(similarity)"
   ]
  },
  {
   "cell_type": "code",
   "execution_count": 78,
   "metadata": {},
   "outputs": [
    {
     "data": {
      "text/plain": [
       "(15725, 15725)"
      ]
     },
     "execution_count": 78,
     "metadata": {},
     "output_type": "execute_result"
    }
   ],
   "source": [
    "similarity.shape"
   ]
  },
  {
   "cell_type": "code",
   "execution_count": 79,
   "metadata": {},
   "outputs": [],
   "source": [
    "import pickle\n",
    "pickle.dump(similarity,open('artifacts/similarity_new.pkl','wb'))"
   ]
  },
  {
   "cell_type": "code",
   "execution_count": 80,
   "metadata": {},
   "outputs": [
    {
     "data": {
      "text/html": [
       "<div>\n",
       "<style scoped>\n",
       "    .dataframe tbody tr th:only-of-type {\n",
       "        vertical-align: middle;\n",
       "    }\n",
       "\n",
       "    .dataframe tbody tr th {\n",
       "        vertical-align: top;\n",
       "    }\n",
       "\n",
       "    .dataframe thead th {\n",
       "        text-align: right;\n",
       "    }\n",
       "</style>\n",
       "<table border=\"1\" class=\"dataframe\">\n",
       "  <thead>\n",
       "    <tr style=\"text-align: right;\">\n",
       "      <th></th>\n",
       "      <th>id</th>\n",
       "      <th>title</th>\n",
       "      <th>tags</th>\n",
       "      <th>rating</th>\n",
       "    </tr>\n",
       "    <tr>\n",
       "      <th>index_sak</th>\n",
       "      <th></th>\n",
       "      <th></th>\n",
       "      <th></th>\n",
       "      <th></th>\n",
       "    </tr>\n",
       "  </thead>\n",
       "  <tbody>\n",
       "    <tr>\n",
       "      <th>0</th>\n",
       "      <td>631842</td>\n",
       "      <td>Knock at the Cabin</td>\n",
       "      <td>horror mysteri thriller blindingedgepictur uni...</td>\n",
       "      <td>5.000000</td>\n",
       "    </tr>\n",
       "    <tr>\n",
       "      <th>1</th>\n",
       "      <td>646389</td>\n",
       "      <td>Plane</td>\n",
       "      <td>action adventur thriller madriverpictur dibona...</td>\n",
       "      <td>4.058892</td>\n",
       "    </tr>\n",
       "    <tr>\n",
       "      <th>2</th>\n",
       "      <td>505642</td>\n",
       "      <td>Black Panther: Wakanda Forever</td>\n",
       "      <td>action adventur sciencefict marvelstudio forev...</td>\n",
       "      <td>3.949740</td>\n",
       "    </tr>\n",
       "    <tr>\n",
       "      <th>3</th>\n",
       "      <td>603692</td>\n",
       "      <td>John Wick: Chapter 4</td>\n",
       "      <td>action thriller crime thunderroad 87eleven lio...</td>\n",
       "      <td>3.629797</td>\n",
       "    </tr>\n",
       "    <tr>\n",
       "      <th>4</th>\n",
       "      <td>315162</td>\n",
       "      <td>Puss in Boots: The Last Wish</td>\n",
       "      <td>anim adventur comedi famili dreamworksanim uni...</td>\n",
       "      <td>3.426291</td>\n",
       "    </tr>\n",
       "  </tbody>\n",
       "</table>\n",
       "</div>"
      ],
      "text/plain": [
       "               id                           title  \\\n",
       "index_sak                                           \n",
       "0          631842              Knock at the Cabin   \n",
       "1          646389                           Plane   \n",
       "2          505642  Black Panther: Wakanda Forever   \n",
       "3          603692            John Wick: Chapter 4   \n",
       "4          315162    Puss in Boots: The Last Wish   \n",
       "\n",
       "                                                        tags    rating  \n",
       "index_sak                                                               \n",
       "0          horror mysteri thriller blindingedgepictur uni...  5.000000  \n",
       "1          action adventur thriller madriverpictur dibona...  4.058892  \n",
       "2          action adventur sciencefict marvelstudio forev...  3.949740  \n",
       "3          action thriller crime thunderroad 87eleven lio...  3.629797  \n",
       "4          anim adventur comedi famili dreamworksanim uni...  3.426291  "
      ]
     },
     "execution_count": 80,
     "metadata": {},
     "output_type": "execute_result"
    }
   ],
   "source": [
    "\n",
    "new_df.head()"
   ]
  },
  {
   "cell_type": "markdown",
   "metadata": {
    "id": "f74O3VMZyNe9"
   },
   "source": [
    "Getting the movie name from the user"
   ]
  },
  {
   "cell_type": "code",
   "execution_count": 81,
   "metadata": {},
   "outputs": [],
   "source": [
    "import pickle\n",
    "movies = pickle.load(open('artifacts/new_df.pkl', 'rb'))\n",
    "similarity = pickle.load(open('artifacts/similarity_new.pkl', 'rb'))"
   ]
  },
  {
   "cell_type": "code",
   "execution_count": 82,
   "metadata": {},
   "outputs": [
    {
     "data": {
      "text/html": [
       "<div>\n",
       "<style scoped>\n",
       "    .dataframe tbody tr th:only-of-type {\n",
       "        vertical-align: middle;\n",
       "    }\n",
       "\n",
       "    .dataframe tbody tr th {\n",
       "        vertical-align: top;\n",
       "    }\n",
       "\n",
       "    .dataframe thead th {\n",
       "        text-align: right;\n",
       "    }\n",
       "</style>\n",
       "<table border=\"1\" class=\"dataframe\">\n",
       "  <thead>\n",
       "    <tr style=\"text-align: right;\">\n",
       "      <th></th>\n",
       "      <th>id</th>\n",
       "      <th>title</th>\n",
       "      <th>tags</th>\n",
       "      <th>rating</th>\n",
       "    </tr>\n",
       "    <tr>\n",
       "      <th>index_sak</th>\n",
       "      <th></th>\n",
       "      <th></th>\n",
       "      <th></th>\n",
       "      <th></th>\n",
       "    </tr>\n",
       "  </thead>\n",
       "  <tbody>\n",
       "    <tr>\n",
       "      <th>0</th>\n",
       "      <td>631842</td>\n",
       "      <td>Knock at the Cabin</td>\n",
       "      <td>horror mysteri thriller blindingedgepictur uni...</td>\n",
       "      <td>5.000000</td>\n",
       "    </tr>\n",
       "    <tr>\n",
       "      <th>1</th>\n",
       "      <td>646389</td>\n",
       "      <td>Plane</td>\n",
       "      <td>action adventur thriller madriverpictur dibona...</td>\n",
       "      <td>4.058892</td>\n",
       "    </tr>\n",
       "    <tr>\n",
       "      <th>2</th>\n",
       "      <td>505642</td>\n",
       "      <td>Black Panther: Wakanda Forever</td>\n",
       "      <td>action adventur sciencefict marvelstudio forev...</td>\n",
       "      <td>3.949740</td>\n",
       "    </tr>\n",
       "    <tr>\n",
       "      <th>3</th>\n",
       "      <td>603692</td>\n",
       "      <td>John Wick: Chapter 4</td>\n",
       "      <td>action thriller crime thunderroad 87eleven lio...</td>\n",
       "      <td>3.629797</td>\n",
       "    </tr>\n",
       "    <tr>\n",
       "      <th>4</th>\n",
       "      <td>315162</td>\n",
       "      <td>Puss in Boots: The Last Wish</td>\n",
       "      <td>anim adventur comedi famili dreamworksanim uni...</td>\n",
       "      <td>3.426291</td>\n",
       "    </tr>\n",
       "  </tbody>\n",
       "</table>\n",
       "</div>"
      ],
      "text/plain": [
       "               id                           title  \\\n",
       "index_sak                                           \n",
       "0          631842              Knock at the Cabin   \n",
       "1          646389                           Plane   \n",
       "2          505642  Black Panther: Wakanda Forever   \n",
       "3          603692            John Wick: Chapter 4   \n",
       "4          315162    Puss in Boots: The Last Wish   \n",
       "\n",
       "                                                        tags    rating  \n",
       "index_sak                                                               \n",
       "0          horror mysteri thriller blindingedgepictur uni...  5.000000  \n",
       "1          action adventur thriller madriverpictur dibona...  4.058892  \n",
       "2          action adventur sciencefict marvelstudio forev...  3.949740  \n",
       "3          action thriller crime thunderroad 87eleven lio...  3.629797  \n",
       "4          anim adventur comedi famili dreamworksanim uni...  3.426291  "
      ]
     },
     "execution_count": 82,
     "metadata": {},
     "output_type": "execute_result"
    }
   ],
   "source": [
    "new_df.head()"
   ]
  },
  {
   "cell_type": "code",
   "execution_count": null,
   "metadata": {
    "colab": {
     "base_uri": "https://localhost:8080/"
    },
    "id": "KTaoqjUBuqdW",
    "outputId": "2245d3bc-833d-4e55-d21b-393b66b6da11"
   },
   "outputs": [],
   "source": [
    "movie_name = input(' Enter your favourite movie name : ')"
   ]
  },
  {
   "cell_type": "code",
   "execution_count": null,
   "metadata": {},
   "outputs": [],
   "source": [
    "import difflib\n",
    "\n",
    "def recommend(movie_name):\n",
    "    list_of_all_titles = movies['title'].tolist()\n",
    "    print(list_of_all_titles)\n",
    "    find_close_match = difflib.get_close_matches(\n",
    "        movie_name, list_of_all_titles)\n",
    "    print(find_close_match)\n",
    "    close_match = find_close_match[0]\n",
    "    print(close_match)\n",
    "    index_of_the_movie = movies[movies.title == close_match].index[0]\n",
    "    print(index_of_the_movie)\n",
    "    similarity_score = list(enumerate(similarity[index_of_the_movie]))\n",
    "    print(similarity_score)\n",
    "    sorted_similar_movies = sorted(\n",
    "        similarity_score, key=lambda x: x[1], reverse=True)\n",
    "    print(sorted_similar_movies)\n",
    "    recommended_movie_names = []\n",
    "    i = 1\n",
    "    print('Movies suggested for you : \\n')\n",
    "    i = 1\n",
    "    for movie in sorted_similar_movies:\n",
    "        index = movie[0]\n",
    "        title_from_index = movies[movies.index==index]['title'].values[0]\n",
    "        if (i<30):\n",
    "            print(i, '.',title_from_index)\n",
    "        i+=1"
   ]
  },
  {
   "cell_type": "code",
   "execution_count": null,
   "metadata": {},
   "outputs": [],
   "source": [
    "recommend(movie_name)"
   ]
  },
  {
   "cell_type": "code",
   "execution_count": null,
   "metadata": {},
   "outputs": [],
   "source": [
    "import pickle"
   ]
  },
  {
   "cell_type": "code",
   "execution_count": null,
   "metadata": {},
   "outputs": [],
   "source": [
    "pickle.dump(new_df,open('artifacts/new_df.pkl','wb'))\n"
   ]
  },
  {
   "cell_type": "markdown",
   "metadata": {
    "id": "jSe8gIQIyRuN"
   },
   "source": [
    "Creating a list with all the movie names given in the dataset"
   ]
  },
  {
   "cell_type": "code",
   "execution_count": null,
   "metadata": {
    "colab": {
     "base_uri": "https://localhost:8080/"
    },
    "id": "sitV-rxGuxRi",
    "outputId": "72aaab67-6a51-47b6-b5c1-6666ecf0be0c"
   },
   "outputs": [],
   "source": [
    "list_of_all_titles = movies['title'].tolist()\n",
    "print(list_of_all_titles)"
   ]
  },
  {
   "cell_type": "markdown",
   "metadata": {
    "id": "mcMe5CzgyWny"
   },
   "source": [
    "Finding the close match for the movie name given by the user"
   ]
  },
  {
   "cell_type": "code",
   "execution_count": null,
   "metadata": {
    "colab": {
     "base_uri": "https://localhost:8080/"
    },
    "id": "W0hPcyMIu03u",
    "outputId": "ba93a6f7-66a8-43f2-8428-735b08313c9b"
   },
   "outputs": [],
   "source": [
    "find_close_match = difflib.get_close_matches(movie_name, list_of_all_titles)\n",
    "print(find_close_match)"
   ]
  },
  {
   "cell_type": "code",
   "execution_count": null,
   "metadata": {
    "colab": {
     "base_uri": "https://localhost:8080/"
    },
    "id": "ozGYF-W_u464",
    "outputId": "ccd0d6fe-4d95-48d5-ccc5-af89f45643dd"
   },
   "outputs": [],
   "source": [
    "close_match = find_close_match[0]\n",
    "print(close_match)"
   ]
  },
  {
   "cell_type": "markdown",
   "metadata": {
    "id": "BIRi5S0azi7j"
   },
   "source": [
    "Finding the index of the movie with title"
   ]
  },
  {
   "cell_type": "code",
   "execution_count": null,
   "metadata": {
    "colab": {
     "base_uri": "https://localhost:8080/"
    },
    "id": "QJPB-s-Du7F1",
    "outputId": "bd38c057-30ad-4f0c-b6c3-e392adaded76"
   },
   "outputs": [],
   "source": [
    "index_of_the_movie = movies[movies.title == close_match].index[0]\n",
    "print(index_of_the_movie)"
   ]
  },
  {
   "cell_type": "markdown",
   "metadata": {
    "id": "Y_w--W-1zmZN"
   },
   "source": [
    "Getting a list of similar movies"
   ]
  },
  {
   "cell_type": "code",
   "execution_count": null,
   "metadata": {
    "colab": {
     "base_uri": "https://localhost:8080/"
    },
    "id": "z9y2HJrGwgGy",
    "outputId": "5ea40243-abe5-45c9-d885-e9257b7e04e4"
   },
   "outputs": [],
   "source": [
    "similarity_score = list(enumerate(similarity[index_of_the_movie]))\n",
    "print(similarity_score)"
   ]
  },
  {
   "cell_type": "markdown",
   "metadata": {
    "id": "KYIogYPyz5xe"
   },
   "source": [
    "Sorting the movies based on their similarity score"
   ]
  }
 ],
 "metadata": {
  "colab": {
   "provenance": []
  },
  "kernelspec": {
   "display_name": "Python 3 (ipykernel)",
   "language": "python",
   "name": "python3"
  },
  "language_info": {
   "codemirror_mode": {
    "name": "ipython",
    "version": 3
   },
   "file_extension": ".py",
   "mimetype": "text/x-python",
   "name": "python",
   "nbconvert_exporter": "python",
   "pygments_lexer": "ipython3",
   "version": "3.11.1"
  }
 },
 "nbformat": 4,
 "nbformat_minor": 1
}
